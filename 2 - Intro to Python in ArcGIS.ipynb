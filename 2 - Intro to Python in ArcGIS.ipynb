{
 "cells": [
  {
   "cell_type": "markdown",
   "metadata": {
    "jp-MarkdownHeadingCollapsed": true
   },
   "source": [
    "## <u>Python Introduction, Why Use It, and Python Basics</u>\n",
    "\n",
    "**Agenda:**\n",
    "- **Lesson 1: Introducing ArcPy and ArcGIS API for Python**\n",
    "    - What is ArcPy and ArcGIS API for Python\n",
    "    - Which Python Library Should I Use: Rules of Thumb\n",
    "    - Documentation for each Python Library\n",
    "       \n",
    "- **Lesson 2: Using ArcGIS Pro's Python Environment for ArcPy and ArcGIS API for Python**\n",
    "    - What is ArcGIS Pro's Native Python Environment\n",
    "\n",
    "- **Lesson 3: Introduction to ArcGIS API for Python**\n",
    "    -  Connect ArcGIS API for Python to ArcGIS Online\n",
    "    -  Understanding Object-Oriented Programming in ArcGIS API for Python\n",
    "    -  Using ArcGIS API for Python to Create Webmaps\n",
    "    -  Download Data using ArcGIS API for Python\n",
    "    \n",
    "- **Lesson 4: Introduction to ArcPy**\n",
    "    - Get the ArcGIS Pro Project Environment Set Up\n",
    "    - Perform a Light-Weight Geoprocessing and Create a Donut Buffer Zone\n",
    "\n",
    "- **Extra Work: ArcGIS Library Challenges**\n",
    "    - 2 ArcGIS API for Python Challenges\n",
    "    - 2 ArcPy Challenges"
   ]
  },
  {
   "cell_type": "markdown",
   "metadata": {},
   "source": [
    "# <u>[Lesson 1] Introducing ArcPy and ArcGIS API for Python"
   ]
  },
  {
   "cell_type": "markdown",
   "metadata": {},
   "source": [
    "<b>ArcPy</b> and the <b>ArcGIS API for Python</b> are two powerful Python libraries designed to streamline geospatial analysis and automation within the ArcGIS ecosystem.\n",
    "- <b>ArcPy</b> enhances GIS workflows by enabling users to perform geoprocessing tasks, automate map production, and manage spatial data with greater efficiency.\n",
    "- Meanwhile, the <b>ArcGIS API for Python</b> serves as a bridge to ArcGIS Online and ArcGIS Enterprise, allowing users to interact with web-based GIS services, manage content, and build analytical applications that leverage the cloud."
   ]
  },
  {
   "cell_type": "markdown",
   "metadata": {},
   "source": [
    "<b>ArcPy</b> provides deep integration with ArcGIS Desktop (ArcMap and ArcGIS Pro), enabling users to script geoprocessing tasks, manipulate spatial data using tools from the geoprocessing toolbox, and automate repetitive GIS workflows. Built on the foundation of Python, <b>ArcPy</b> allows for extensive customization, letting users perform spatial analysis, generate maps dynamically, and access various GIS datasets through Python scripts. This makes it invaluable for GIS analysts who need to scale their work beyond manual execution. <B>Notably, ArcPy requires a license to use (e.g., an ArcGIS Pro license)</b>."
   ]
  },
  {
   "cell_type": "markdown",
   "metadata": {},
   "source": [
    "The <b>ArcGIS API for Python</b>, on the other hand, is tailored for web GIS applications, enabling users to interact with ArcGIS Online and ArcGIS Portal/Enterprise programmatically. With this API, users can access and manage hosted feature services, analyze spatial data using Python notebooks, automate administrative tasks, and develop GIS applications that integrate with web-based infrastructure. Its design emphasizes scalability, making it an excellent choice for organizations managing large amounts of geospatial data or deploying real-time GIS solutions in a connected environment. <B>Notably, ArcGIS API for Python does NOT requires a license to use; however, you will likely need to connect to an ArcGIS Online or ArcGIS Portal to work.</b>."
   ]
  },
  {
   "cell_type": "markdown",
   "metadata": {},
   "source": [
    "## <i>Which Python Library Should I Use: Rule of Thumbs</i>\n",
    "- <b>ArcPy</b> can accomplish ArcGIS Pro workflows.\n",
    "- as <b>ArcGIS API for Python</b> can accomplish ArcGIS Online workflows."
   ]
  },
  {
   "cell_type": "markdown",
   "metadata": {},
   "source": [
    "## <i>Documentation for each Python Library"
   ]
  },
  {
   "cell_type": "markdown",
   "metadata": {},
   "source": [
    "While both libraries use Python as their foundation, they don’t directly integrate with each other in a seamless way. However, users often leverage both in their workflows — for example, running geoprocessing tasks with <b>ArcPy</b> and then publishing the results to ArcGIS Online using the <b>ArcGIS API for Python</b>. Understanding their respective strengths can help maximize efficiency in GIS automation and analysis."
   ]
  },
  {
   "cell_type": "markdown",
   "metadata": {},
   "source": [
    "You can find abundant Python examples and documentation online on the Esri websites. Here are the links to the two main resources: \n",
    "- <b>ArcPy</b> uses ArcGIS Pro's Documentation\n",
    "    - https://pro.arcgis.com/en/pro-app/latest/arcpy/get-started/what-is-arcpy-.htm\n"
   ]
  },
  {
   "cell_type": "markdown",
   "metadata": {},
   "source": [
    "- <b>ArcGIS API for Python</b> uses Esri Developer website\n",
    "    - https://developers.arcgis.com/python/latest/"
   ]
  },
  {
   "cell_type": "markdown",
   "metadata": {},
   "source": [
    "## <i>Lesson 1: Questions"
   ]
  },
  {
   "cell_type": "markdown",
   "metadata": {},
   "source": [
    "<details>\n",
    "<summary><b>[Question 1]</b> Which Python library requires a license to use?</summary>\n",
    "<br><b>[Answer]</b>\n",
    "ArcPy\n",
    "</details>\n"
   ]
  },
  {
   "cell_type": "markdown",
   "metadata": {},
   "source": [
    "[Enter Your Answer]"
   ]
  },
  {
   "cell_type": "markdown",
   "metadata": {},
   "source": [
    "<details>\n",
    "<summary><b>[Question 2]</b> Which Python library is designed for geoprocessing tools used in ArcGIS Desktop (e.g., ArcGIS Pro)?</summary>\n",
    "<br><b>[Answer]</b>\n",
    "ArcPy\n",
    "</details>"
   ]
  },
  {
   "cell_type": "markdown",
   "metadata": {},
   "source": [
    "[Enter Your Answer]"
   ]
  },
  {
   "cell_type": "markdown",
   "metadata": {},
   "source": [
    "<details>\n",
    "<summary><b>[Question 3]</b> Which Python library is designed to connect with ArcGIS Online?</summary>\n",
    "<br><b>[Answer]</b>\n",
    "ArcGIS API for Python\n",
    "</details>"
   ]
  },
  {
   "cell_type": "markdown",
   "metadata": {},
   "source": [
    "[Enter Your Answer]"
   ]
  },
  {
   "cell_type": "markdown",
   "metadata": {},
   "source": [
    "<details>\n",
    "<summary><b>[Question 4]</b> Are the two ArcGIS Python libraries compatible with each other?</summary>\n",
    "<br><b>[Answer]</b>\n",
    "Depends on how you define \"compatible\", but they can certainly complement each other. Users often use the libraries in conjunction with each other. For example, users make Python workflows that require the <b>ArcPy's</b> geoprocessing capabilities while leveraging <b>ArcGIS API for Python's</b> web-based capabilities.\n",
    "</details>"
   ]
  },
  {
   "cell_type": "markdown",
   "metadata": {},
   "source": [
    "[Enter Your Answer]"
   ]
  },
  {
   "cell_type": "markdown",
   "metadata": {},
   "source": [
    "<details>\n",
    "<summary><b>[Question 5]</b> Which Python library's documentation is found with ArcGIS Pro's documentation?</summary>\n",
    "<br><b>[Answer]</b>\n",
    "ArcPy\n",
    "</details>"
   ]
  },
  {
   "cell_type": "markdown",
   "metadata": {},
   "source": [
    "[Enter Your Answer]"
   ]
  },
  {
   "cell_type": "markdown",
   "metadata": {},
   "source": [
    "# <u>Lesson 2: Using ArcGIS Pro's Python Environment for ArcPy and ArcGIS API for Python</u>\n"
   ]
  },
  {
   "cell_type": "markdown",
   "metadata": {},
   "source": [
    "Python Environments are a fundamental tool in the realm of research & data science. They enable the ability to create isolated environments that contain different versions of Python and python packages. This is incredibly important because Python and python packages are constantly changing and updating, which may cause dependency issues and ultimately code failure. By being explicit with the version of Python and python packages being used, it's possible to create a Python Environment where the code will consistently work. There are two primary python environment managers, Pip or Conda. "
   ]
  },
  {
   "cell_type": "markdown",
   "metadata": {},
   "source": [
    "<b>ArcGIS Pro</b> comes with Python pre-installed as part of the ArcGIS Pro Conda environment, known as <b><i>arcgispro-py3</b></i>. This environment is built on Conda, allowing seamless package management and integration with Python libraries."
   ]
  },
  {
   "cell_type": "markdown",
   "metadata": {},
   "source": [
    "When using <b>ArcGIS Notebooks</b> from <b>ArcGIS Pro</b>, you are leveraging the ArcGIS Pro's Python environment. The strong advantage here is that we can use both <b>ArcPy</b> and <b>ArcGIS API for Python</b> libraries.\n",
    "\n",
    "See how both libraries can be imported in the Python code below."
   ]
  },
  {
   "cell_type": "code",
   "execution_count": null,
   "metadata": {},
   "outputs": [],
   "source": [
    "#Import ArcPy\n",
    "import arcpy #ArcPy comes licensed with ArcGIS Pro\n",
    "\n",
    "#Import ArcGIS API for Python\n",
    "import arcgis"
   ]
  },
  {
   "cell_type": "markdown",
   "metadata": {},
   "source": [
    "## <i>Lesson 2: Questions"
   ]
  },
  {
   "cell_type": "markdown",
   "metadata": {},
   "source": [
    "<details>\n",
    "<summary><b>[Question 1]</b> Does ArcGIS Pro's Python environment use Pip or Conda to manage its libraries?</summary>\n",
    "<br><b>[Answer]</b>\n",
    "Conda is used.\n",
    "</details>\n"
   ]
  },
  {
   "cell_type": "markdown",
   "metadata": {},
   "source": [
    "[Enter Your Answer]"
   ]
  },
  {
   "cell_type": "markdown",
   "metadata": {},
   "source": [
    "# <u>Lesson 3: Introduction to ArcGIS API for Python"
   ]
  },
  {
   "cell_type": "markdown",
   "metadata": {},
   "source": [
    "We are going to start with <b>ArcGIS API for Python</b>, because the data we will work with using <b>ArcPy</b> will be downloaded by using <b>ArcGIS API for Python</b>.\n",
    "\n",
    "- <b>ArcPy</b> could use other methods to download data <u>without</u> <b>ArcGIS API for Python</b>; however, using this approach demonstrates how the two libraries can be used in conjunction with each other."
   ]
  },
  {
   "cell_type": "markdown",
   "metadata": {},
   "source": [
    "## <i>Part 1: Connect ArcGIS API for Python to ArcGIS Online"
   ]
  },
  {
   "cell_type": "markdown",
   "metadata": {},
   "source": [
    "<b>ArcGIS API for Python</b> requires you to connect to an ArcGIS Online or ArcGIS Enterprise (specifically an ArcGIS Portal). With ArcGIS Pro, you can sign into an ArcGIS Online or ArcGIS Portal and use that connection for <b>ArcGIS API for Python's</b> workflows."
   ]
  },
  {
   "cell_type": "markdown",
   "metadata": {},
   "source": [
    "<b>[Step 1]</b> If not already, connect your ArcGIS Pro to your ArcGIS Online Organization (e.g., University of Maryland's ArcGIS Online). To do so, follow these steps:\n",
    "- Click on <i>Project</i> on the top left of your ArcGIS Pro screen.\n",
    "- Select the <i>Portals</i> tab\n",
    "- Choose <i> Add Portal</i>\n",
    "- Paste your ArcGIS Online Organization's URL (e.g., \"https://uofmd.maps.arcgis.com/home/index.html\")\n",
    "- Once added to your Portals list, select the \"...\" next to added Portal and select both (1) <i>Sign-in</I> and (2) <i>Set as active </i>"
   ]
  },
  {
   "cell_type": "markdown",
   "metadata": {},
   "source": [
    "Once done, you should be able to run the code below and return some user information about your account."
   ]
  },
  {
   "cell_type": "code",
   "execution_count": null,
   "metadata": {},
   "outputs": [],
   "source": [
    "#Import ArcGIS API for Python\n",
    "import arcgis\n",
    "\n",
    "# Authenticate to ArcGIS Online via Pro\n",
    "gis = arcgis.gis.GIS(\"Pro\")\n",
    "\n",
    "print(\"User's Name: \" + str(gis.users.me.fullName))\n",
    "print(\"User's Role: \" + str(gis.users.me.role))\n",
    "print(\"User's ID: \" + str(gis.users.me.username))"
   ]
  },
  {
   "cell_type": "markdown",
   "metadata": {},
   "source": [
    "<details>\n",
    "<summary><b>[Question 1a]</b> What user role were you assigned in your ArcGIS Online Organization?</summary>\n",
    "<br><b>[Answer]</b>\n",
    "If successfully connected to the ArcGIS Online, your role should have been printed in the code above.\n",
    "</details>"
   ]
  },
  {
   "cell_type": "markdown",
   "metadata": {},
   "source": [
    "[Enter Your Answer]"
   ]
  },
  {
   "cell_type": "markdown",
   "metadata": {},
   "source": [
    "<details>\n",
    "<summary><b>[Question 1b]</b> How does ArcGIS API for Python know you are specifically signed into the ArcGIS Online Organization (e.g., how does it know your username)?</summary>\n",
    "<br><b>[Answer]</b>\n",
    "In Step 1, you logged in and connected your ArcGIS Pro to the ArcGIS Online environment with your account — the function <i>arcgis.gis.GIS(\"Pro\")</i> uses this connection to connect your ArcGIS API for Python to ArcGIS Online.\n",
    "</details>"
   ]
  },
  {
   "cell_type": "markdown",
   "metadata": {},
   "source": [
    "[Enter Your Answer]"
   ]
  },
  {
   "cell_type": "markdown",
   "metadata": {},
   "source": [
    "## <i>Part 2: Understanding Object-Oriented Programming in ArcGIS API for Python"
   ]
  },
  {
   "cell_type": "markdown",
   "metadata": {},
   "source": [
    "In the previous Notebook, we discussed <b>methods</b> in Python, which are built-in functions in certain Python variables (often called objects). This reflects something called <b>Object-Oriented Programming</b>. The <b>ArcGIS API for Python</b> relies heavily on Object-Oriented Programming to navigate its web-based connections.\n",
    "\n",
    "<b><u>Note:</u> If you are new to this, read and re-read this section slowly. Ask for help if needed because this is important to understand.</b>"
   ]
  },
  {
   "cell_type": "markdown",
   "metadata": {},
   "source": [
    "<b><i>What is Object-Oriented Programming</i></b>"
   ]
  },
  {
   "cell_type": "markdown",
   "metadata": {},
   "source": [
    "Object-oriented programming (OOP) in Python is a paradigm that organizes code into objects, which have methods and properties.\n",
    "- Methods are functions defined within a class that operate on its objects.\n",
    "    - A simple example is 'text.upper()' converts a string to uppercase \n",
    "- Properties are special attributes defined within the object.\n",
    "    - An example we just used was 'gis.users.me.fullName', which was a string variable that contained your name"
   ]
  },
  {
   "cell_type": "markdown",
   "metadata": {},
   "source": [
    "<b><i>Backpack Analogy to Explain Object-Oriented Programming</i></b>"
   ]
  },
  {
   "cell_type": "markdown",
   "metadata": {},
   "source": [
    "Imagine a backpack as a class in Python's object-oriented programming (OOP). The backpack itself is an object created from the class.\n",
    "- Properties are like the backpack's attributes—things that define it. For example: color, size, or items_inside. These are values associated with the backpack.\n",
    "- Methods are the actions the backpack can perform. For example, add_item(item), remove_item(item), or check_items(). These methods modify or interact with the backpack.\n",
    "\n",
    "The last thing to remember is that objects can contain other objects. Like a backpack can contain a lunchbox, which may have its own properties and methods."
   ]
  },
  {
   "cell_type": "markdown",
   "metadata": {},
   "source": [
    "<b><i>See Object-Oriented Programming in Action in ArcGIS API for Python</i></b>"
   ]
  },
  {
   "cell_type": "markdown",
   "metadata": {},
   "source": [
    "We will explore <b>ArcGIS API for Python's</b> Object-Oriented Programming step-by-step in sync with our backpack analogy."
   ]
  },
  {
   "cell_type": "code",
   "execution_count": null,
   "metadata": {},
   "outputs": [],
   "source": [
    "#Import ArcGIS API for Python\n",
    "import arcgis\n",
    "\n",
    "#<<< Define object called 'gis' that connects to ArcGIS Online >>>\n",
    "    # Authenticate to ArcGIS Online via Pro\n",
    "gis = arcgis.gis.GIS(\"Pro\")"
   ]
  },
  {
   "cell_type": "markdown",
   "metadata": {},
   "source": [
    "The <b><i>'gis'</i></b> variable is our connection point to ArcGIS Online. \n",
    "\n",
    "In our analogy, this is the <b>backpack</b>. Now let's pull out another object from our backpack using a <b>method</b>."
   ]
  },
  {
   "cell_type": "code",
   "execution_count": null,
   "metadata": {},
   "outputs": [],
   "source": [
    "# <<< Use a method to pull out an object from ArcGIS Online >>>\n",
    "    #Notably, gis.content is an object called \"Content Manager\"\n",
    "    #The .search() is specifically the method to explore content in ArcGIS Online\n",
    "\n",
    "item = gis.content.search(query= \"\")[0] #this returns the first search result \n",
    "item"
   ]
  },
  {
   "cell_type": "markdown",
   "metadata": {},
   "source": [
    "The <b><i>'item'</b></i> variable we defined is an object, specifically an <b>ArcGIS Online item</b> that we can view, use, and update.\n",
    "\n",
    "<b>[Quick Step]</b> Click on the hyperlinked item above generated above.\n",
    "\n",
    "In our analogy, this is a <b>lunchbox</b> that was stored in the <b>backpack</b>. Next, let's explore the <b>properties</b> of our <b>lunchbox</b>."
   ]
  },
  {
   "cell_type": "code",
   "execution_count": null,
   "metadata": {},
   "outputs": [],
   "source": [
    "# <<< Print Some Propeties of the ArcGIS Online Item >>>\n",
    "\n",
    "#Print the item's title\n",
    "print(\"Title: \" + str(item.title))\n",
    "\n",
    "#Print the item's snippet\n",
    "print(\"Snippet: \" + str(item.snippet))\n",
    "\n",
    "#Print the item's ID\n",
    "print(\"Url: \" + item.id)\n",
    "\n",
    "#Print the item's owner\n",
    "print(\"Owner: \" + item.owner)\n",
    "\n",
    "#Print the item's Url\n",
    "print(\"Url: \" + item.url)"
   ]
  },
  {
   "cell_type": "markdown",
   "metadata": {},
   "source": [
    "With our <b><i>'item'</b></i>, we could do the following:\n",
    "- Update its metadata like its title (if we have permission) --> An example of a method\n",
    "- See what ArcGIS Online groups this item is shared with --> An example of a property\n",
    "- Overwrite and update the item --> An example of a method\n",
    "- And anything else we could do in ArcGIS Online with our accounts.\n",
    "\n",
    "<b>ArcGIS API for Python</b> - like many other Python libraries - uses Object-Oriented Programming heavily to quickly navigate and manage content. This is true for <b>ArcPy</b> too."
   ]
  },
  {
   "cell_type": "markdown",
   "metadata": {},
   "source": [
    "<details>\n",
    "<summary><b>[Question 2a]</b> What does the <b><i>'gis'</i></b> variable in our code represent? What does it represent in our backpack analogy?</summary>\n",
    "<br><b>[Answer]</b>\n",
    "The variable is our connection to the ArcGIS Online Organization, and it represents the <b>backpack</b> itself.\n",
    "</details>"
   ]
  },
  {
   "cell_type": "markdown",
   "metadata": {},
   "source": [
    "[Enter Your Answer]"
   ]
  },
  {
   "cell_type": "markdown",
   "metadata": {},
   "source": [
    "<details>\n",
    "<summary><b>[Question 2b]</b> Describe the Python workflow you would do to check who owns a specific webmap (which is an example of an ArcGIS Online item)?</summary>\n",
    "<br><b>[Answer]</b>\n",
    "You would do the following steps:\n",
    "    \n",
    "    - Connect to ArcGIS Online with ArcGIS API for Python\n",
    "    - Search for the item using the method 'gis.content.search()'\n",
    "    - Once you have the item, you would get its property with 'item.owner'\n",
    "</details>"
   ]
  },
  {
   "cell_type": "markdown",
   "metadata": {},
   "source": [
    "[Enter Your Answer]"
   ]
  },
  {
   "cell_type": "markdown",
   "metadata": {},
   "source": [
    "<details>\n",
    "<summary><b>[Question 2c]</b> How do you think ArcGIS API for Python could be useful for managing content in an ArcGIS Online Organization?</summary>\n",
    "<br><b>[Answer]</b>\n",
    "There are LOTS of answers for this. For example, an Admin in an ArcGIS Online Organization could generate analytical statistics of the GIS users, like identifying the most popular ArcGIS application in the Organization.\n",
    "</details>"
   ]
  },
  {
   "cell_type": "markdown",
   "metadata": {},
   "source": [
    "[Enter Your Answer]"
   ]
  },
  {
   "cell_type": "markdown",
   "metadata": {},
   "source": [
    "## <i>Part 3: Using ArcGIS API for Python to Create Webmaps</i>"
   ]
  },
  {
   "cell_type": "markdown",
   "metadata": {},
   "source": [
    "Now let's focus back on the 'GIS' part of the API.\n",
    "\n",
    "As mentioned, a <b>good rule of thumb is that any workflow you can do ArcGIS Online, you can do with ArcGIS API</b>. This includes making webmaps.\n",
    "\n",
    "Let's first connect to ArcGIS Online and grab some <b>trails</b> data publicly available on ArcGIS Online."
   ]
  },
  {
   "cell_type": "code",
   "execution_count": null,
   "metadata": {},
   "outputs": [],
   "source": [
    "import arcgis\n",
    "\n",
    "# Authenticate to ArcGIS Online via Pro\n",
    "gis = arcgis.gis.GIS(\"Pro\")\n",
    "\n",
    "# Get the Trailheads_Styled layer via the Item's ID\n",
    "trailheads_item = gis.content.get(\"2e4b3df6ba4b44969a3bc9827de746b3\")\n",
    "trailheads_item"
   ]
  },
  {
   "cell_type": "markdown",
   "metadata": {},
   "source": [
    "Now, we will create a webmap within our ArcGIS Notebook.\n",
    "- ArcGIS Notebook isn't just a great environment to write code and documentation, but also for creating engaging visualizations to pair with our code."
   ]
  },
  {
   "cell_type": "code",
   "execution_count": null,
   "metadata": {},
   "outputs": [],
   "source": [
    "# Create a web_map centered on Malibu, California\n",
    "web_map = gis.map(\"Malibu, CA\")\n",
    "web_map"
   ]
  },
  {
   "cell_type": "markdown",
   "metadata": {},
   "source": [
    "<b>Next</b>, we will add our Trails data to the created webmap"
   ]
  },
  {
   "cell_type": "code",
   "execution_count": null,
   "metadata": {},
   "outputs": [],
   "source": [
    "#Add trails data to the map\n",
    "web_map.content.add(trailheads_item)\n",
    "web_map"
   ]
  },
  {
   "cell_type": "markdown",
   "metadata": {},
   "source": [
    "From here, we can save our webmap to our ArcGIS Online content."
   ]
  },
  {
   "cell_type": "code",
   "execution_count": null,
   "metadata": {},
   "outputs": [],
   "source": [
    "#Save the webmap\n",
    "    #Notice the use item_properties, which is a dictionary\n",
    "web_map_item = web_map.save(item_properties={\"title\": \"Notebook Example\",\n",
    "                                            \"snippet\": \"A webmap created with ArcGIS Notebook\",\n",
    "                                            \"tags\":[\"test\", \"delete\"]}\n",
    "                           )\n",
    "web_map_item"
   ]
  },
  {
   "cell_type": "markdown",
   "metadata": {},
   "source": [
    "We just created a map that is now uploaded to your ArcGIS Online content.\n",
    "\n",
    "<b>[Quick Step]</b> Click on the created hyperlink above.\n",
    "\n",
    "Now, every good programmer remembers to clean-up after themselves. Let's delete the map we just created by using the .delete() <b>method</b>"
   ]
  },
  {
   "cell_type": "code",
   "execution_count": null,
   "metadata": {},
   "outputs": [],
   "source": [
    "#Delete the web_map we just created\n",
    "web_map_item.delete()"
   ]
  },
  {
   "cell_type": "markdown",
   "metadata": {},
   "source": [
    "<details>\n",
    "<summary><b>[Question 3a]</b> What is the value of creating a webmap with Python over manually doing it in ArcGIS Online?</summary>\n",
    "<br><b>[Answer]</b>\n",
    "One example would be if we were creating multiple maps with the same layers and symbologies across different locations (e.g., different major U.S. cities). This script could be a significant time-saver.\n",
    "</details>"
   ]
  },
  {
   "cell_type": "markdown",
   "metadata": {},
   "source": [
    "[Enter your Answer]"
   ]
  },
  {
   "cell_type": "markdown",
   "metadata": {},
   "source": [
    "<details>\n",
    "<summary><b>[Question 3b]</b> How would we change the web map to be focused on a different city instead of Malibu, CA (e.g., a web map centered on Baltimore)?</summary>\n",
    "<br><b>[Answer]</b>\n",
    "We would change the code from 'gis.map(\"Malibu, CA\")' to 'gis.map(\"Baltimore, MD\")'\n",
    "</details>"
   ]
  },
  {
   "cell_type": "markdown",
   "metadata": {},
   "source": [
    "[Enter your Answer]"
   ]
  },
  {
   "cell_type": "markdown",
   "metadata": {},
   "source": [
    "<details>\n",
    "<summary><b>[Question 3c]</b> With the generated web maps above, answer if the following capabilities could be done:\n",
    "\n",
    "    - Could you select individual features?\n",
    "    - Could you search for a location?\n",
    "    - Could you zoom in or out?\n",
    "    - Could you grab the screen with your cursor and move the map extent?\n",
    "    - Could you change the symbology of the layer?\n",
    "</summary>\n",
    "<br><b>[Answer]</b>\n",
    "By the deafult map, the answers were:\n",
    "\n",
    "    - Could you select individual features? --> Yes\n",
    "    - Could you search for a location? --> No\n",
    "    - Could you zoom in or out? --> Yes\n",
    "    - Could you grab the screen with your cursor and move the map extent? --> Yes\n",
    "    - Could you change the symbology of the trails layer? --> Yes\n",
    "<br><br>\n",
    "Some of these capabilities can be enabled and done programatically. There is a lot of rich Python documentation about what can be done with maps in Python here:\n",
    "- https://developers.arcgis.com/python/latest/api-reference/arcgis.map.toc.html\n",
    "</details>"
   ]
  },
  {
   "cell_type": "markdown",
   "metadata": {},
   "source": [
    "[Enter your Answer]"
   ]
  },
  {
   "cell_type": "markdown",
   "metadata": {},
   "source": [
    "## <i>Part 4: Download Data using the ArcGIS API for Python into our ArcGIS Pro Environment"
   ]
  },
  {
   "cell_type": "markdown",
   "metadata": {},
   "source": [
    "In this lesson, we will download our data into our default ArcGIS Pro environment to complete our last steps with <b>ArcGIS API for Python</b>.\n",
    "\n",
    "We are going to do this in one code block by first using <b>ArcGIS API for Python</b> to get our data and then <b>ArcPy</b> to save our data into the desktop environment.\n",
    "- If you want to understand how this is done, read the comments in the code. Being able to read Python is a useful skill to pick up over time.\n",
    "- You can also ask an AI assistant to explain this code to you."
   ]
  },
  {
   "cell_type": "code",
   "execution_count": null,
   "metadata": {},
   "outputs": [],
   "source": [
    "#Import both ArcGIS API for Python and ArcPy\n",
    "import arcgis\n",
    "import arcpy\n",
    "\n",
    "import os #This native Python library will be used to create a save path for our data\n",
    "\n",
    "#<<< ArcGIS API for Python Section >>>\n",
    "\n",
    "# Authenticate to ArcGIS Online via Pro\n",
    "gis = arcgis.gis.GIS(\"Pro\")\n",
    "\n",
    "# Get an item to download \n",
    "item = gis.content.get(\"2e4b3df6ba4b44969a3bc9827de746b3\")\n",
    "\n",
    "# Get the first layer from the item\n",
    "layer = item.layers[0]\n",
    "\n",
    "# Convert the layer to a spatial dataframe\n",
    "spatially_enabled_dataframe = layer.query().sdf\n",
    "\n",
    "#<<< ArcPy Section >>>\n",
    "# Define default geodatabase path\n",
    "default_gdb = arcpy.env.workspace\n",
    "\n",
    "# Create a name and file path to save the new feature class in ArcGIS Pro's default geodatabase\n",
    "feature_class_name = \"Trail_Data\"\n",
    "output_path = os.path.join(default_gdb, feature_class_name)\n",
    "\n",
    "#<<< ArcGIS API for Python Saving into Local Environment >>>\n",
    "spatially_enabled_dataframe.spatial.to_featureclass(location =  output_path)"
   ]
  },
  {
   "cell_type": "markdown",
   "metadata": {},
   "source": [
    "<b>[Step 4]</b> A new feature class was saved locally. Open your Catalog pane and view the new saved data in your default geodatabase. Follow these steps:\n",
    "- Click the <i>View</i> up top\n",
    "- Select <i>Catalog</i>\n",
    "- The <i>Catalog Pane</i> should appear. Open the <i>Database</i> folder and then the <i>Default.gdb</i>\n",
    "- You should see the saved dataset called <b>Trail_Data</b>."
   ]
  },
  {
   "cell_type": "markdown",
   "metadata": {},
   "source": [
    "<details>\n",
    "<summary><b>[Question 4]</b> Open the attribute table for the <b>Trail_Data</b> by right-clicking on the layer and answer the following questions?\n",
    "\n",
    "    - How many features are there?\n",
    "    - Who are the two primary owners of the trails in the dataset (hint: look at the 'park names' field)?\n",
    "\n",
    "</summary>\n",
    "<br><b>[Answer]</b>\n",
    "The answers were:\n",
    "\n",
    "    - How many features are there? --> About 320 features\n",
    "    - Who are the two primary owners of the trails in the dataset? --> National Park Service and CA State\n",
    "</details>"
   ]
  },
  {
   "cell_type": "markdown",
   "metadata": {},
   "source": [
    "[Enter your Answer]"
   ]
  },
  {
   "cell_type": "markdown",
   "metadata": {},
   "source": [
    "# <u>Lesson 4: Introduction to ArcPy</u>"
   ]
  },
  {
   "cell_type": "markdown",
   "metadata": {},
   "source": [
    "Now that we have downloaded our data into our desktop using <b>ArcGIS API for Python</b>, we will now switch to using <b>ArcPy</b>.\n",
    "\n",
    "We will also start seeing results appear in our <b>ArcGIS Pro map</b>. This reflects the convenience of using <b>ArcGIS Notebooks</b> in <b>ArcGIS Pro</b>."
   ]
  },
  {
   "cell_type": "markdown",
   "metadata": {},
   "source": [
    "- <b><u>[Important]</u></b> The code in <b><i>Lesson 4</i></b> will <b><u>fail unless</b></u> code in <b><i>Lesson 3</b></i> has been ran."
   ]
  },
  {
   "cell_type": "markdown",
   "metadata": {},
   "source": [
    "## <i>Part 1: Get the ArcGIS Pro Project Environment Set Up"
   ]
  },
  {
   "cell_type": "markdown",
   "metadata": {},
   "source": [
    "<b>[Quick Step]</b> Make sure you have an <b>ArcGIS Pro map</b> opened up. If you don't then:\n",
    "\n",
    "- Click on the <i>Insert</i>\n",
    "- Select <i>New Map</i>"
   ]
  },
  {
   "cell_type": "markdown",
   "metadata": {},
   "source": [
    "This <b>ArcGIS Pro map</b> will be our testing environment. We will now set this environment using <b>ArcPy</b>."
   ]
  },
  {
   "cell_type": "code",
   "execution_count": null,
   "metadata": {},
   "outputs": [],
   "source": [
    "#Import the ArcPy library\n",
    "import arcpy\n",
    "\n",
    "# Using the mapping module, create a Project Object from the CURRENT project\n",
    "    #Notice, we created an object called 'aprx'\n",
    "aprx = arcpy.mp.ArcGISProject(\"CURRENT\")\n",
    "\n",
    "#Create a list variable containing all the maps in our ArcGIS Pro\n",
    "map_list = aprx.listMaps()\n",
    "\n",
    "map_list"
   ]
  },
  {
   "cell_type": "markdown",
   "metadata": {},
   "source": [
    "The <b>'aprx'</b> variable is our <b>current ArcGIS Pro Project</b> and acts as our <b>bacpack</b> (remember the analogy). The <b>method</b> called <b>aprx.listMaps()</b> pulls all the existing <b>ArcGIS Pro maps</b> from our <b>ArcGIS Pro Project</b>. The <b>maps</b> are our <b>lunchboxes</b> in the backpack.\n",
    "\n",
    "From here, we can interact with our <b>map</b> and add and pull layers from it. We will now (1) set up our map environment and (2) add our downloaded data to the map."
   ]
  },
  {
   "cell_type": "code",
   "execution_count": null,
   "metadata": {},
   "outputs": [],
   "source": [
    "#===================================================\n",
    "#===================================================\n",
    "#<<< Step 1: Set Up Map Environment >>>\n",
    "#===================================================\n",
    "\n",
    "#===================================================\n",
    "#First, lets grab a map from our list\n",
    "    #The \"[0]\" grabs us the very first map in our list\n",
    "map_example = map_list[0]\n",
    "#===================================================\n",
    "\n",
    "#===================================================\n",
    "#Now, let's remove any layers stored in the map\n",
    "    #This is a cleaning step to remove layers.\n",
    "for layer in map_example.listLayers():\n",
    "\n",
    "    print(layer.name)\n",
    "\n",
    "    #Remove the layer if it is not a basemap\n",
    "    if layer.isBasemapLayer == False:\n",
    "        map_example.removeLayer(layer)\n",
    "\n",
    "#===================================================\n",
    "#===================================================\n",
    "#<<< Step 2: Add Data to Our Map >>>\n",
    "#===================================================\n",
    "\n",
    "#Add data to our map\n",
    "map_example.addDataFromPath(os.path.join(default_gdb, feature_class_name))\n",
    "\n",
    "#Add data to our map\n",
    "map_example.addDataFromPath(os.path.join(default_gdb, feature_class_name))"
   ]
  },
  {
   "cell_type": "markdown",
   "metadata": {},
   "source": [
    "<details>\n",
    "<summary><b>[Question 1]</b> Why did the code above add the trails data to our map twice?</summary>\n",
    "<br><b>[Answer]</b>\n",
    "Because the <b><i>map_example.addDataFromPath()</b></i> method was called twice.\n",
    "</details>\n"
   ]
  },
  {
   "cell_type": "markdown",
   "metadata": {},
   "source": [
    "[Enter your Answer]"
   ]
  },
  {
   "cell_type": "markdown",
   "metadata": {},
   "source": [
    "<b>[Step 1]</b> Based on the code above, write a code that will print all the layers's name in the current map (i.e., <b>map_example</b>)\n",
    "\n",
    "- <b>Hint:</b> Use a <i>for</i> loop and the <i>.listLayers()</i> method."
   ]
  },
  {
   "cell_type": "code",
   "execution_count": null,
   "metadata": {},
   "outputs": [],
   "source": [
    "#Write the code below.\n"
   ]
  },
  {
   "cell_type": "markdown",
   "metadata": {},
   "source": [
    "## <i>Part 2: Perform a Light-Weight Geoprocessing and Create a Donut Buffer Zone"
   ]
  },
  {
   "cell_type": "markdown",
   "metadata": {},
   "source": [
    "With our map environment working, let's create a quick geoprocessing script that creates a 200- to 500-foot buffer around each point. Notably, the final output should NOT have any coverage from 0 to 200 feet around the trail point."
   ]
  },
  {
   "cell_type": "markdown",
   "metadata": {},
   "source": [
    "<details>\n",
    "<summary><b>[Question 2]</b> How could we do this in ArcGIS Pro manually, using only the geoprocessing tools <b><i>Buffer </b></i> and <b><i>Erase</b></i>?</summary>\n",
    "<br><b>[Answer]</b>\n",
    "The workflow could look like:\n",
    "\n",
    "    - Run the Buffer tool with a 200 feet buffer distance.\n",
    "    - Run the Buffer tool again with a 500 feet buffer distance.\n",
    "    - Then use the Erase tool using the 200 feet buffer layer on the 500 feet buffer layer.\n",
    "</details>\n"
   ]
  },
  {
   "cell_type": "markdown",
   "metadata": {},
   "source": [
    "Remember the rule of thumb: <b>anything you can do manually in ArcGIS Pro, you can do with ArcPy</b>.\n",
    "\n",
    "We will implement the answer of <i>Question 1</i>, but will use <b>ArcPy</b> instead of manually doing the work."
   ]
  },
  {
   "cell_type": "code",
   "execution_count": null,
   "metadata": {},
   "outputs": [],
   "source": [
    "#===================================================\n",
    "#===================================================\n",
    "#<<< Step 1: Set Up Default Output Environment >>>\n",
    "#===================================================\n",
    "\n",
    "#Set behavior to add the GP tools to the map\n",
    "arcpy.env.addOutputsToMap = True\n",
    "\n",
    "#Set behavior to overwrite output of the GP Tools\n",
    "arcpy.env.overwriteOutput = True\n",
    "\n",
    "#===================================================\n",
    "#===================================================\n",
    "#<<< Step 2: Set the Parameters >>>\n",
    "#===================================================\n",
    "\n",
    "#Input data file path\n",
    "input_trail_layer = os.path.join(default_gdb, feature_class_name)\n",
    "\n",
    "#Output data file path for 200 feet buffer\n",
    "output_trail_layer_200ft_buffer = os.path.join(default_gdb, feature_class_name + \"_200ft_buffer\")\n",
    "\n",
    "#Output data file path for 500 feet buffer\n",
    "output_trail_layer_500ft_buffer = os.path.join(default_gdb, feature_class_name + \"_500ft_buffer\")\n",
    "\n",
    "#Output data for the donut buffer zone of 200 - 500 buffer\n",
    "output_trail_layer_donut_buffer = os.path.join(default_gdb, feature_class_name+ \"_donut_buffer\")\n",
    "\n",
    "#===================================================\n",
    "#===================================================\n",
    "#<<< Step 3: Create a 200 feet using the Buffer Tool >>>\n",
    "#===================================================\n",
    "\n",
    "arcpy.analysis.Buffer(in_features = input_trail_layer,\n",
    "                      out_feature_class = output_trail_layer_200ft_buffer,\n",
    "                      buffer_distance_or_field = \"200 Feet\")\n",
    "\n",
    "\n",
    "#===================================================\n",
    "#===================================================\n",
    "#<<< Step 4: Create a 500 feet using the Buffer Tool >>>\n",
    "#===================================================\n",
    "\n",
    "arcpy.analysis.Buffer(in_features = input_trail_layer,\n",
    "                      out_feature_class = output_trail_layer_500ft_buffer,\n",
    "                      buffer_distance_or_field = \"500 Feet\")\n",
    "\n",
    "#===================================================\n",
    "#===================================================\n",
    "#<<< Step 5: Create the Donut Buffer Zone using the Erase Tool >>>\n",
    "#===================================================\n",
    "\n",
    "arcpy.analysis.Erase(in_features = output_trail_layer_500ft_buffer,\n",
    "                     erase_features = output_trail_layer_200ft_buffer,\n",
    "                     out_feature_class = output_trail_layer_donut_buffer)\n",
    "\n"
   ]
  },
  {
   "cell_type": "markdown",
   "metadata": {},
   "source": [
    "<b>[Step 2] Explore the data that is added to your map."
   ]
  },
  {
   "cell_type": "markdown",
   "metadata": {},
   "source": [
    "This is a simple example of GP tools being streamlined and automated together, but this example is still advantageous to know. For instance, we could create multiple donut buffer zones around fires to determine the level of risk to infrastructure from disasters like fires. Additionally, as the situation unfolds, the code will allow us to recreate the buffer zones as the underlying data changes quickly versus us having to manually re-run the steps ourselves."
   ]
  },
  {
   "cell_type": "markdown",
   "metadata": {},
   "source": [
    "# <i>Extra Work: ArcGIS API for Python and ArcPy Challenges"
   ]
  },
  {
   "cell_type": "markdown",
   "metadata": {},
   "source": [
    "If you have the time, try completing these <b>ArcGIS API for Python</b> and <b>ArcPy</b> challenges. We have not covered how to do all of this, but try your best. The point is to explore and productively struggle.\n",
    "- <b>[Hint]</b> AI assistants can be useful; however, they are far from perfect. Be sure to check out the Python libraries documentation found on the web. In otherwords, <b>Google it</b>"
   ]
  },
  {
   "cell_type": "markdown",
   "metadata": {},
   "source": [
    "<b>[ArcGIS API for Python - Challenge 1]</b> Retrieve and list all feature layers in your ArcGIS Online account.\n",
    "- Use GIS to authenticate and access your content.\n",
    "- Loop through your items and print only those of type Feature Layer."
   ]
  },
  {
   "cell_type": "code",
   "execution_count": null,
   "metadata": {},
   "outputs": [],
   "source": [
    "#<<< Create the code >>>\n"
   ]
  },
  {
   "cell_type": "markdown",
   "metadata": {},
   "source": [
    "<b>[ArcGIS API for Python - Challenge 2]</b>\n",
    "Create a simple script that exports a feature layer as a CSV file.\n",
    "- Find a public feature layer in ArcGIS Online using gis.content.search().\n",
    "- Convert its attribute table into a Pandas dataframe.\n",
    "- Save the dataframe as a CSV."
   ]
  },
  {
   "cell_type": "code",
   "execution_count": null,
   "metadata": {},
   "outputs": [],
   "source": [
    "#<<< Create the code >>>\n"
   ]
  },
  {
   "cell_type": "markdown",
   "metadata": {},
   "source": [
    "<b>[ArcPy - Challenge 3]</b> Print the spatial references for all the layers in an ArcGIS Pro map.\n",
    "- Define your active ArcGIS Pro project and map\n",
    "- Use '.listLayers()' to list all the layers in the map"
   ]
  },
  {
   "cell_type": "code",
   "execution_count": null,
   "metadata": {},
   "outputs": [],
   "source": [
    "#<<< Create the code >>>\n"
   ]
  },
  {
   "cell_type": "markdown",
   "metadata": {},
   "source": [
    "<b>[ArcPy - Challenge 4]</b> Convert a Sub-Dataset of a Feature Class (e.g., selected features) into a Feature Table.\n",
    "- Use SelectLayerByAttribute() to select your sub-dataset.\n",
    "- Use FeatureClassToTable_conversion() to perform the conversion."
   ]
  },
  {
   "cell_type": "code",
   "execution_count": null,
   "metadata": {},
   "outputs": [],
   "source": [
    "#<<< Create the code >>>\n"
   ]
  }
 ],
 "metadata": {
  "kernelspec": {
   "display_name": "ArcGISPro",
   "language": "python",
   "name": "python3"
  },
  "language_info": {
   "file_extension": ".py",
   "mimetype": "text/x-python",
   "name": "python",
   "version": "3.11.10"
  }
 },
 "nbformat": 4,
 "nbformat_minor": 4
}
