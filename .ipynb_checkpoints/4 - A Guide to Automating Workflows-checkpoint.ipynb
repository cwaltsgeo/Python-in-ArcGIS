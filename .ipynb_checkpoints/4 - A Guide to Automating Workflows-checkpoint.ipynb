{
 "cells": [
  {
   "cell_type": "markdown",
   "metadata": {},
   "source": [
    "# ArcPy: A Guide to Automating Workflows"
   ]
  },
  {
   "cell_type": "markdown",
   "metadata": {
    "jp-MarkdownHeadingCollapsed": true
   },
   "source": [
    "##### We'll do this Notebook together!\n",
    "\n",
    "ArcPy is a powerful Python library used in ArcGIS that allows for the automation of complex GIS workflows. By leveraging ArcPy, users can streamline repetitive tasks, such as data analysis, map creation, spatial analysis, and geoprocessing. Automating these tasks increases efficiency, reduces errors, and enhances consistency across projects. This capability is crucial for handling large datasets, performing batch processing, and integrating GIS with other data systems or software. ArcPy empowers GIS professionals to streamline their workflows and tackle more complex, data-driven challenges, leading to enhanced insights and more informed decision-making.\n",
    "\n",
    "<b> This Notebook will provide a practical framework for automating any task with ArcPy. </b>\n",
    "\n",
    "##### A Practical Guide to ArcPy\n",
    "1. Plan your workflow\n",
    "2. Test with Geoprocessing Tools in ArcGIS Pro\n",
    "3. Polish & deploy as an operational notebook, custom geoprocessing tool, or stand-alone script"
   ]
  },
  {
   "cell_type": "markdown",
   "metadata": {},
   "source": [
    "##### Plan your workflow\n",
    "\n",
    "The National Interagency Fire Center (NIFC) maintains an open data ArcGIS Hub site with several current and historical wildland fire datasets. The Wildfire Aware application by the Living Atlas explores current/active wildfires, as produced by NIFC. For this example, we will use the historical Wildland Fire Incident Locations for wildfires between 2020 - 2024.\n",
    "- Wildland Fire Incident Locations - https://www.arcgis.com/home/item.html?id=b4402f7887ca4ea9a6189443f220ef28\n",
    "\n",
    "Connect to the data > prepare the data > iterate over each state > generate wildfire heatmap"
   ]
  },
  {
   "cell_type": "markdown",
   "metadata": {},
   "source": [
    "##### Use Geoprocessing Tools\n",
    "\n",
    "With a general plan of the workflow, investigate useful Geoprocessing Tools to support the workflow. Generally speaking, Geoprocessing Tools are the most performant way of performing geospatial analysis. Additionally, being able to run through your workflow, even roughly, provides a nice sanity check before writing any code. If you find yourself unable to find an appropriate Geoprocessing Tools, the cursors are a powerful method for drilling into your data to perform analysis.\n",
    "\n",
    "- <b> arcpy.management </b> for managing & connecting to datasets\n",
    "- <b> arcpy.da </b> for preparing and iterating over data\n",
    "- <b> arcpy.sa / arcpy.ia </b> for performing spatial analysis or image analysis\n",
    "- <b> arcpy.mp </b> for managing ArcGIS Pro maps, projects, layers, and more\n",
    "\n",
    "With this in mind, the general workflow will consist of the following Geoprocessing Tools:\n",
    "1. Make Feature Layer\n",
    "2. arcpy.da.SearchCursor\n",
    "3. Visualize Space Time Cube\n",
    "4. arcpy.mp"
   ]
  },
  {
   "cell_type": "markdown",
   "metadata": {},
   "source": [
    "##### Copy Geoprocessing Tools to Notebooks"
   ]
  },
  {
   "cell_type": "code",
   "execution_count": 17,
   "metadata": {},
   "outputs": [
    {
     "data": {
      "text/html": [
       "<div class='gpresult'><h2 class='msg-title'>Messages</h2><div id='messages'>Start Time: Wednesday, April 30, 2025 11:01:08 PM<br>Succeeded at Wednesday, April 30, 2025 11:01:08 PM (Elapsed Time: 0.02 seconds)<br></div><div id = 'default' /></div></div>"
      ],
      "text/plain": [
       "<Result 'C:\\\\Users\\\\col12422\\\\Documents\\\\ArcGIS\\\\Projects\\\\Python in ArcGIS Workshop\\\\Timecubes'>"
      ]
     },
     "execution_count": 17,
     "metadata": {},
     "output_type": "execute_result"
    }
   ],
   "source": [
    "import arcpy\n",
    "project = arcpy.mp.ArcGISProject(\"?\")\n",
    "arcpy.CreateFolder_management(project.homeFolder, \"Timecubes\")\n",
    "# arcpy.env.workspace vs. project.homeFolder"
   ]
  },
  {
   "cell_type": "code",
   "execution_count": null,
   "metadata": {},
   "outputs": [
    {
     "data": {
      "text/html": [
       "<div class='gpresult'><h2 class='msg-title'>Messages</h2><div id='messages'>Start Time: Tuesday, April 29, 2025 9:06:57 AM<br>Succeeded at Tuesday, April 29, 2025 9:06:57 AM (Elapsed Time: 0.23 seconds)<br></div><div id = 'default' /></div></div>"
      ],
      "text/plain": [
       "<Result 'Current Wildfires'>"
      ]
     },
     "execution_count": 2,
     "metadata": {},
     "output_type": "execute_result"
    }
   ],
   "source": [
    "# Local - Current Wildfires\n",
    "arcpy.management.MakeFeatureLayer(\"Current Wildfires\")"
   ]
  },
  {
   "cell_type": "code",
   "execution_count": null,
   "metadata": {},
   "outputs": [
    {
     "data": {
      "text/html": [
       "<div class='gpresult'><h2 class='msg-title'>Messages</h2><div id='messages'>Start Time: Tuesday, February 25, 2025 4:34:20 PM<br>Succeeded at Tuesday, February 25, 2025 4:34:20 PM (Elapsed Time: 0.05 seconds)<br></div><div id = 'default' /></div></div>"
      ],
      "text/plain": [
       "<Result 'USA States Generalized'>"
      ]
     },
     "execution_count": 3,
     "metadata": {},
     "output_type": "execute_result"
    }
   ],
   "source": [
    "# Web Services - USA States Generalized\n",
    "arcpy.management.MakeFeatureLayer(\"USA States Generalized\")"
   ]
  },
  {
   "cell_type": "markdown",
   "metadata": {},
   "source": [
    "##### Use arcpy.ListFields() to understand the data"
   ]
  },
  {
   "cell_type": "code",
   "execution_count": 4,
   "metadata": {},
   "outputs": [
    {
     "name": "stdout",
     "output_type": "stream",
     "text": [
      "OBJECTID has a type of OID\n",
      "Shape has a type of Geometry\n",
      "SourceOID has a type of Integer\n",
      "FireDiscoveryDateTime has a type of Date\n",
      "IncidentName has a type of String\n",
      "GlobalID has a type of GlobalID\n"
     ]
    }
   ],
   "source": [
    "# For each field in the Current Wildfires feature class, print\n",
    "# field name, type\n",
    "\n",
    "fields = arcpy.ListFields( \"?\" )\n",
    "\n",
    "for field in fields:\n",
    "    print(f\"{field.name} has a type of {field.type}\")"
   ]
  },
  {
   "cell_type": "markdown",
   "metadata": {},
   "source": [
    "##### Spatial Join Current Wildfires to USA State boundaries"
   ]
  },
  {
   "cell_type": "code",
   "execution_count": 6,
   "metadata": {},
   "outputs": [
    {
     "data": {
      "text/html": [
       "<div class='gpresult'><h2 class='msg-title'>Messages</h2><div id='messages'>Start Time: Tuesday, February 25, 2025 4:37:24 PM<br>Succeeded at Tuesday, February 25, 2025 4:37:27 PM (Elapsed Time: 3.06 seconds)<br></div><div id = 'default' /></div></div>"
      ],
      "text/plain": [
       "<Result 'memory\\\\CurrentWildfires_SpatialJoin'>"
      ]
     },
     "execution_count": 6,
     "metadata": {},
     "output_type": "execute_result"
    }
   ],
   "source": [
    "arcpy.analysis.SpatialJoin(\n",
    "    # target_features=\"Current Wildfires\",\n",
    "    # join_features=\"USA States Generalized\",\n",
    "    # out_feature_class=r\"memory\\CurrentWildfires_SpatialJoin\",\n",
    ")"
   ]
  },
  {
   "cell_type": "markdown",
   "metadata": {},
   "source": [
    "##### Use a Search Cursor to determine states to iterate over"
   ]
  },
  {
   "cell_type": "code",
   "execution_count": 7,
   "metadata": {},
   "outputs": [
    {
     "data": {
      "text/plain": [
       "{'AL',\n",
       " 'AR',\n",
       " 'AZ',\n",
       " 'CA',\n",
       " 'CO',\n",
       " 'CT',\n",
       " 'DC',\n",
       " 'DE',\n",
       " 'FL',\n",
       " 'GA',\n",
       " 'IA',\n",
       " 'ID',\n",
       " 'IL',\n",
       " 'IN',\n",
       " 'KS',\n",
       " 'KY',\n",
       " 'LA',\n",
       " 'MA',\n",
       " 'MD',\n",
       " 'ME',\n",
       " 'MI',\n",
       " 'MN',\n",
       " 'MO',\n",
       " 'MS',\n",
       " 'MT',\n",
       " 'NC',\n",
       " 'ND',\n",
       " 'NE',\n",
       " 'NH',\n",
       " 'NJ',\n",
       " 'NM',\n",
       " 'NV',\n",
       " 'NY',\n",
       " None,\n",
       " 'OH',\n",
       " 'OK',\n",
       " 'OR',\n",
       " 'PA',\n",
       " 'RI',\n",
       " 'SC',\n",
       " 'SD',\n",
       " 'TN',\n",
       " 'TX',\n",
       " 'UT',\n",
       " 'VA',\n",
       " 'VT',\n",
       " 'WA',\n",
       " 'WI',\n",
       " 'WV',\n",
       " 'WY'}"
      ]
     },
     "execution_count": 7,
     "metadata": {},
     "output_type": "execute_result"
    }
   ],
   "source": [
    "feature_class = \"CurrentWildfires_SpatialJoin\"\n",
    "field = \"STATE_ABBR\"\n",
    "\n",
    "unique_values = set(row[0] for row in arcpy.da.Cursor(feature_class, field))\n",
    "unique_values"
   ]
  },
  {
   "cell_type": "markdown",
   "metadata": {},
   "source": [
    "##### Dynamically select data based on attributes"
   ]
  },
  {
   "cell_type": "code",
   "execution_count": 8,
   "metadata": {},
   "outputs": [
    {
     "data": {
      "text/html": [
       "<div class='gpresult'><h2 class='msg-title'>Messages</h2><div id='messages'>Start Time: Tuesday, February 25, 2025 4:39:59 PM<br>Succeeded at Tuesday, February 25, 2025 4:39:59 PM (Elapsed Time: 0.04 seconds)<br></div><div id = 'default' /></div></div>"
      ],
      "text/plain": [
       "<Result 'CurrentWildfires_SpatialJoin'>"
      ]
     },
     "execution_count": 8,
     "metadata": {},
     "output_type": "execute_result"
    }
   ],
   "source": [
    "arcpy.management.SelectLayerByAttribute(\n",
    "    in_layer_or_view=\"CurrentWildfires_SpatialJoin\",\n",
    "    selection_type=\"NEW_SELECTION\",\n",
    "    where_clause=\"STATE_ABBR = '??'\",\n",
    "    invert_where_clause=None\n",
    ")"
   ]
  },
  {
   "cell_type": "markdown",
   "metadata": {},
   "source": [
    "##### ArcPy honors selections, similar to Geoprocessing Tools"
   ]
  },
  {
   "cell_type": "code",
   "execution_count": null,
   "metadata": {},
   "outputs": [
    {
     "data": {
      "text/html": [
       "<div class='gpresult'><h2 class='msg-title'>Messages</h2><div id='messages' data-messages='[\"Start Time: Tuesday, February 25, 2025 4:40:33 PM\",\"WARNING 110521: Milliseconds (ms) in high precision date fields will not be used in calculations.\",\"WARNING 110067: Your spatial reference is not compatible with CF Conventions.  You may experience difficulties using the resulting space-time cube with other NetCDF tools and software.\",{\"element\":\"content\",\"data\":\"The space time cube has aggregated 7769 points into 378 hexagon grid locations over 21 time step intervals.  Each location has a height of 50 miles, a width of 57.74 miles, sides of 28.87 miles, and an area of 2165.06 square miles.  The entire space time cube spans an area 923.76 miles west to east and 900 miles north to south.  Each of the time step intervals is 3 months in duration so the entire time period covered by the space time cube is 63 months.  Of the 378 total locations, 177 (46.83%) contain at least one point for at least one time step interval.  These 177 locations comprise 3717 space time bins of which 1508 (40.57%) have point counts greater than zero.  There is a statistically significant increase in point counts over time.\"},[{\"element\":\"table\",\"data\":[[{\"data\":\"Input feature time extent\",\"prop\":{\"rowspan\":2}},\"2020-01-04 12:30:00\"],[{\"data\":\"to 2025-02-22 14:06:00\",\"prop\":{\"text-align\":\"right\"}}],[\"\",\"\"],[\"Number of time steps\",\"21\"],[\"Time step interval\",\"3 months\"],[\"Time step alignment\",\"End\"],[\"\",\"\"],[\"First time step temporal bias\",\"46.67%\"],[{\"data\":\"First time step interval\",\"prop\":{\"rowspan\":4}},\"after\"],[{\"data\":\"2019-11-22 14:06:00\",\"prop\":{\"text-align\":\"right\"}}],[{\"data\":\"to on or before\",\"prop\":{\"text-align\":\"right\"}}],[{\"data\":\"2020-02-22 14:06:00\",\"prop\":{\"text-align\":\"right\"}}],[\"\",\"\"],[\"Last time step temporal bias\",\"0.00%\"],[{\"data\":\"Last time step interval\",\"prop\":{\"rowspan\":4}},\"after\"],[{\"data\":\"2024-11-22 14:06:00\",\"prop\":{\"text-align\":\"right\"}}],[{\"data\":\"to on or before\",\"prop\":{\"text-align\":\"right\"}}],[{\"data\":\"2025-02-22 14:06:00\",\"prop\":{\"text-align\":\"right\"}}],[\"\",\"\"],[\"Coordinate System\",\"WGS 1984 Web Mercator Auxiliary Sphere\"],[\"Cube extent across space\",\"(coordinates in meters)\"],[\"Min X\",\"-11845628.4915\"],[\"Min Y\",\"2935423.6052\"],[\"Max X\",\"-10358977.2116\"],[\"Max Y\",\"4424069.7824\"],[\"Rows\",\"18\"],[\"Columns\",\"21\"],[\"Total bins\",\"7938\"]],\"elementProps\":{\"striped\":\"true\",\"noHeader\":true,\"title\":\"Space Time Cube Characteristics\",\"0\":{\"align\":\"left\",\"pad\":\"0px\",\"wrap\":true},\"1\":{\"align\":\"right\",\"pad\":\"0px\",\"wrap\":true}}}],[{\"element\":\"table\",\"data\":[[{\"data\":\"Total number of locations\",\"prop\":{\"font-weight\":\"bold\"}},\"    378\"],[{\"data\":\"Locations with at least one point\",\"prop\":{\"font-weight\":\"bold\"}},\"    177\"],[{\"data\":\"- associated bins\",\"prop\":{\"font-weight\":\"bold\"}},\"   3717\"],[{\"data\":\"- % non-zero (sparseness)\",\"prop\":{\"font-weight\":\"bold\"}},\"  40.57\"]],\"elementProps\":{\"striped\":\"true\",\"title\":\"COUNT\",\"0\":{\"align\":\"left\",\"pad\":\"0px\",\"wrap\":true},\"1\":{\"align\":\"right\",\"pad\":\"0px\",\"wrap\":true},\"2\":{\"align\":\"left\",\"pad\":\"0px\",\"wrap\":true},\"3\":{\"align\":\"right\",\"pad\":\"0px\",\"wrap\":true}}}],[{\"element\":\"table\",\"data\":[[\"Trend direction\",\"     Increasing\"],[\"Trend statistic\",\"1.9065\"],[\"Trend p-value\",\"0.0566\"]],\"elementProps\":{\"striped\":\"true\",\"noHeader\":true,\"title\":\"Overall Data Trend - COUNT\",\"0\":{\"align\":\"left\",\"pad\":\"0px\",\"wrap\":true},\"1\":{\"align\":\"right\",\"pad\":\"0px\",\"wrap\":true}}}],\"Succeeded at Tuesday, February 25, 2025 4:40:33 PM (Elapsed Time: 0.41 seconds)\"]' data-show='true'><div id = 'default' /></div></div>"
      ],
      "text/plain": [
       "<Result 'C:\\\\Users\\\\col12422\\\\Documents\\\\ArcGIS\\\\Projects\\\\Automation with ArcPy\\\\Timecubes\\\\WildfireTimecube_TX.nc'>"
      ]
     },
     "execution_count": 9,
     "metadata": {},
     "output_type": "execute_result"
    }
   ],
   "source": [
    "arcpy.stpm.CreateSpaceTimeCube()"
   ]
  },
  {
   "cell_type": "markdown",
   "metadata": {},
   "source": [
    "##### Putting it all together!"
   ]
  },
  {
   "cell_type": "code",
   "execution_count": 10,
   "metadata": {},
   "outputs": [],
   "source": [
    "from tqdm.notebook import tqdm"
   ]
  },
  {
   "cell_type": "code",
   "execution_count": null,
   "metadata": {},
   "outputs": [
    {
     "data": {
      "application/vnd.jupyter.widget-view+json": {
       "model_id": "98e25be66115471392beb1f233a0c3f5",
       "version_major": 2,
       "version_minor": 0
      },
      "text/plain": [
       "  0%|          | 0/50 [00:00<?, ?it/s]"
      ]
     },
     "metadata": {},
     "output_type": "display_data"
    }
   ],
   "source": [
    "for state in tqdm(unique_values):    \n",
    "    arcpy.management.SelectLayerByAttribute(\n",
    "        # in_layer_or_view=\"CurrentWildfires_SpatialJoin\",\n",
    "        # selection_type=\"NEW_SELECTION\",\n",
    "        # where_clause=\"STATE_ABBR = '{0}'\".format(state),\n",
    "        # invert_where_clause=None\n",
    "    )\n",
    "    try:\n",
    "        arcpy.stpm.CreateSpaceTimeCube(\n",
    "            # in_features=\"CurrentWildfires_SpatialJoin\",\n",
    "            # # Path to save timecubes locally, (optional) create Timecubes folder\n",
    "            # # output_cube=r\"C:\\Users\\col12422\\Documents\\ArcGIS\\Projects\\Automation with ArcPy\\Timecubes\\WildfireTimecube_{0}.nc\".format(state),\n",
    "            # time_field=\"FireDiscoveryDateTime\",\n",
    "            # template_cube=None,\n",
    "            # time_step_interval=\"3 Months\",\n",
    "            # time_step_alignment=\"END_TIME\",\n",
    "            # reference_time=None,\n",
    "            # distance_interval=\"50 Miles\",\n",
    "            # summary_fields=None,\n",
    "            # aggregation_shape_type=\"HEXAGON_GRID\",\n",
    "            # defined_polygon_locations=None,\n",
    "            # location_id=None\n",
    "        )\n",
    "    except Exception:\n",
    "        continue"
   ]
  },
  {
   "cell_type": "markdown",
   "metadata": {},
   "source": [
    "##### Sample of the results"
   ]
  },
  {
   "cell_type": "code",
   "execution_count": null,
   "metadata": {},
   "outputs": [
    {
     "data": {
      "text/html": [
       "<div class='gpresult'><h2 class='msg-title'>Messages</h2><div id='messages'>Start Time: Tuesday, February 25, 2025 4:42:04 PM<br>Succeeded at Tuesday, February 25, 2025 4:42:05 PM (Elapsed Time: 0.72 seconds)<br></div><div id = 'default' /></div></div>"
      ],
      "text/plain": [
       "<Result 'C:\\\\Users\\\\col12422\\\\Documents\\\\ArcGIS\\\\Projects\\\\Automation with ArcPy\\\\Automation with ArcPy.gdb\\\\WildfireTimecube_TX_Visualization'>"
      ]
     },
     "execution_count": 12,
     "metadata": {},
     "output_type": "execute_result"
    }
   ],
   "source": [
    "arcpy.stpm.VisualizeSpaceTimeCube2D(\n",
    "    # Path to one of the timecubes created above, e.g. WildfireTimecube_TX.nc\n",
    "    in_cube=# r\"\\Timecubes\\WildfireTimecube_TX.nc\",\n",
    "    cube_variable=\"COUNT\",\n",
    "    display_theme=\"TRENDS\",\n",
    "    # Path to the output\n",
    "    output_features=# r\"AutomationWorkflows.gdb\\WildfireTimecube_TX_Visualization\",\n",
    "    enable_time_series_popups=\"CREATE_POPUP\"\n",
    ")"
   ]
  },
  {
   "cell_type": "markdown",
   "metadata": {},
   "source": [
    "# Challenge"
   ]
  },
  {
   "cell_type": "markdown",
   "metadata": {},
   "source": [
    "Now that you know the general outline of automating workflows, let's apply the knowledge to a few challenge questions.\n",
    "\n",
    "1. Using the same **unique_values** variable, which lists all of the 50 states, apply logic to the automated workflow to only create Timecubes from **states that end in 'A'**.\n",
    "\n",
    "2. Think about some of the work you do at UMD. What repetitive workflows do you have that could benefit from automation? Do you have any workflows that are best done manually?"
   ]
  }
 ],
 "metadata": {
  "kernelspec": {
   "display_name": "ArcGISPro",
   "language": "python",
   "name": "python3"
  },
  "language_info": {
   "file_extension": ".py",
   "mimetype": "text/x-python",
   "name": "python",
   "version": "3.11.10"
  }
 },
 "nbformat": 4,
 "nbformat_minor": 4
}
