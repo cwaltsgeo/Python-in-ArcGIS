{
 "cells": [
  {
   "cell_type": "markdown",
   "id": "1f640791",
   "metadata": {},
   "source": [
    "# ArcPy: Accessing Microsoft Planetary Computer (MPC) Data via STAC API\n",
    "\n",
    "In this notebook, you will:\n",
    "- Connect to cloud satellite data with ArcPy’s STAC tools\n",
    "- Explore collections and assets in the MPC STAC Catalog\n",
    "- Run a custom search for imagery by space, time, and sensor\n",
    "- Load and inspect results as RasterCollections\n",
    "- Practice customizing band/processing choices"
   ]
  },
  {
   "cell_type": "markdown",
   "id": "30d56fa5",
   "metadata": {},
   "source": [
    "## 1. Setup\n",
    "\n",
    "First, import required ArcPy modules. For many cloud datasets, an **Azure Cloud Storage (ACS) connection file** is required (see [Supported STAC Collections](https://github.com/Esri/arcgis-for-mpc/tree/main/AMPC_Resources/ACS_Files))."
   ]
  },
  {
   "cell_type": "code",
   "execution_count": null,
   "id": "792f6827",
   "metadata": {},
   "outputs": [],
   "source": [
    "import arcpy\n",
    "from arcpy import AIO"
   ]
  },
  {
   "cell_type": "markdown",
   "id": "575d5187",
   "metadata": {},
   "source": [
    "### Set up an ACS connection file for your collection\n",
    "\n",
    "- Download the right `.acs` file for the dataset (see ArcGIS/Esri help link above).\n",
    "- Update the path below as needed. Hint: ```ACS_Files``` folder"
   ]
  },
  {
   "cell_type": "code",
   "execution_count": null,
   "id": "b2b72935",
   "metadata": {},
   "outputs": [],
   "source": [
    "# Required for certain cloud collections ONLY:\n",
    "acs_path = r\"C:\\Users\\col12422\\Documents\\Code Projects\\Python in ArcGIS\\ACS_Files\\esrims_pc_landsat-c2-l2.acs\" # path to landsat ACS file \n",
    "a = AIO(acs_path)"
   ]
  },
  {
   "cell_type": "markdown",
   "id": "36e50009",
   "metadata": {},
   "source": [
    "## 2. Explore the MPC STAC Catalog\n",
    "\n",
    "Use `GetSTACInfo` to browse available datasets and collections, and to inspect the details of a specific collection (e.g., Landsat-8)."
   ]
  },
  {
   "cell_type": "code",
   "execution_count": null,
   "id": "c5615c27",
   "metadata": {},
   "outputs": [],
   "source": [
    "# Return root info from MPC STAC Catalog\n",
    "stac_url = 'https://planetarycomputer.microsoft.com/api/stac/v1'\n",
    "stac_info = arcpy.GetSTACInfo(stac_url, verbose=False)\n",
    "print('Available Collections:')\n",
    "print(stac_info['collections'])"
   ]
  },
  {
   "cell_type": "code",
   "execution_count": null,
   "id": "a131e83e",
   "metadata": {},
   "outputs": [],
   "source": [
    "# Get detailed info for Landsat collection 2 level 2\n",
    "landsat_col_url = stac_url + '/collections/landsat-c2-l2'\n",
    "collection_info = arcpy.GetSTACInfo(landsat_col_url, verbose=True)\n",
    "collection_info"
   ]
  },
  {
   "cell_type": "code",
   "execution_count": null,
   "id": "4449bd76",
   "metadata": {},
   "outputs": [],
   "source": [
    "# Show available data \"assets\" (bands/products) in collection\n",
    "collection_info = arcpy.GetSTACInfo(landsat_col_url, verbose=False)\n",
    "print(collection_info['item_assets'])"
   ]
  },
  {
   "cell_type": "markdown",
   "id": "7ec34354",
   "metadata": {},
   "source": [
    "## 3. Define a Query for Search\n",
    "\n",
    "A typical STAC search includes the following parameters:\n",
    "- `collections`: the dataset you want\n",
    "- `bbox`: bounding box in `[xmin, ymin, xmax, ymax]` (WGS84)\n",
    "- `query`: platform, band, product etc\n",
    "- `datetime`: time window\n",
    "- `limit`: max results\n",
    "\n",
    "[Find more accepted parameters here (OGC STAC docs)](https://docs.ogc.org/DRAFTS/20-004.html#core-query-parameters)"
   ]
  },
  {
   "cell_type": "code",
   "execution_count": null,
   "id": "d6c2f634",
   "metadata": {},
   "outputs": [],
   "source": [
    "# Example: search for Landsat-8 images over Hawaii in 2022\n",
    "query = {\n",
    "    \"collections\": [\"landsat-c2-l2\"],\n",
    "    \"bbox\": [-156.127, 18.871, -154.776, 20.299],  # Hawaii\n",
    "    \"query\": {\"platform\": {\"in\": [\"landsat-8\"]}},\n",
    "    \"datetime\": \"2022-01-01/2022-12-31\",\n",
    "    \"limit\": 10\n",
    "}\n",
    "query"
   ]
  },
  {
   "cell_type": "markdown",
   "id": "63de8b2b",
   "metadata": {},
   "source": [
    "### (Optional) Define Return Attributes\n",
    "- Choose which result metadata fields you want to retrieve."
   ]
  },
  {
   "cell_type": "code",
   "execution_count": null,
   "id": "eba0a57e",
   "metadata": {},
   "outputs": [],
   "source": [
    "attribute_dict = {\n",
    "    \"Name\": \"id\",\n",
    "    \"Cloud Cover\": \"eo:cloud_cover\",\n",
    "    \"StdTime\": \"datetime\",\n",
    "    \"Platform\": \"platform\",\n",
    "    \"Spatial Reference\": \"proj:epsg\",\n",
    "    \"Extent\": \"bbox\"\n",
    "}\n",
    "attribute_dict"
   ]
  },
  {
   "cell_type": "markdown",
   "id": "dcfad45e",
   "metadata": {},
   "source": [
    "## 4. Search and Load Results into a RasterCollection"
   ]
  },
  {
   "cell_type": "code",
   "execution_count": null,
   "id": "df369a33",
   "metadata": {},
   "outputs": [],
   "source": [
    "rc = arcpy.ia.RasterCollection.fromSTACAPI(\n",
    "    stac_api=stac_url,\n",
    "    query=query,\n",
    "    attribute_dict=attribute_dict\n",
    ")\n",
    "rc"
   ]
  },
  {
   "cell_type": "markdown",
   "id": "075201ac",
   "metadata": {},
   "source": [
    "## 5. Customizing Data: Processing Template & Asset Management\n",
    "\n",
    "Change pre-processing or limit to specific bands."
   ]
  },
  {
   "cell_type": "code",
   "execution_count": null,
   "id": "101332a7",
   "metadata": {},
   "outputs": [],
   "source": [
    "# Example 1: Use the Surface Reflectance Processing Template (if available)\n",
    "rc_template = arcpy.ia.RasterCollection.fromSTACAPI(\n",
    "    stac_api=stac_url,\n",
    "    query=query,\n",
    "    attribute_dict=attribute_dict,\n",
    "    context={\"processingTemplate\": \"Surface Reflectance\"}\n",
    ")\n",
    "rc_template"
   ]
  },
  {
   "cell_type": "code",
   "execution_count": null,
   "id": "c8818930",
   "metadata": {},
   "outputs": [],
   "source": [
    "# Example 2: Get only RGB assets for each scene\n",
    "rc_asset = arcpy.ia.RasterCollection.fromSTACAPI(\n",
    "    stac_api=stac_url,\n",
    "    query=query,\n",
    "    attribute_dict=attribute_dict,\n",
    "    context={\"assetManagement\": [\"red\", \"green\", \"blue\"]}\n",
    ")\n",
    "rc_asset"
   ]
  },
  {
   "cell_type": "markdown",
   "id": "38d95dcb",
   "metadata": {},
   "source": [
    "## 6. Compare Band Names Returned from Each Method\n",
    "\n",
    "See how different context options affect available raster bands."
   ]
  },
  {
   "cell_type": "code",
   "execution_count": null,
   "id": "e1d2aee8",
   "metadata": {},
   "outputs": [],
   "source": [
    "print(f\"{'Default template (Multiband):':<30} {rc[0]['Raster'].bandNames}\")\n",
    "print(f\"{'Surface Reflectance template:':<30} {rc_template[0]['Raster'].bandNames}\")\n",
    "print(f\"{'Specific assets:' :<30} {rc_asset[0]['Raster'].bandNames}\")"
   ]
  },
  {
   "cell_type": "markdown",
   "id": "c940481d-0c94-4b31-b564-c2fc7023b89b",
   "metadata": {},
   "source": [
    "## 7. Cool, but now what?"
   ]
  },
  {
   "cell_type": "markdown",
   "id": "946c7a1e-e053-4fff-925b-b13e52af34fb",
   "metadata": {},
   "source": [
    "We can access individual images within  the RasterCollection"
   ]
  },
  {
   "cell_type": "code",
   "execution_count": null,
   "id": "54677d9c-0fe4-4b48-84f1-cf89f5f3efaf",
   "metadata": {},
   "outputs": [],
   "source": [
    "rc_asset[0]['Raster']\n",
    "# rc_asset[1]['Raster']\n",
    "# rc_asset[2]['Raster']\n",
    "# rc_asset[x]['Raster'] and so on..."
   ]
  },
  {
   "cell_type": "markdown",
   "id": "f559d233-a4d1-431e-b58a-9de7da4edfec",
   "metadata": {},
   "source": [
    "Create a composite of all rasters within the RasterCollection"
   ]
  },
  {
   "cell_type": "code",
   "execution_count": null,
   "id": "a2b9d235-9af2-4cd9-8c33-8ab78e4f899c",
   "metadata": {},
   "outputs": [],
   "source": [
    "# Great for creating cloudless composites\n",
    "# This particular example looks a bit strange... Why do you think the left side is less cloudy than the right side?\n",
    "rc_asset.median(ignore_nodata = True, extent_type = 'UnionOf')"
   ]
  },
  {
   "cell_type": "markdown",
   "id": "f522ba9f-f967-4bf4-8ee1-f914e0a061b8",
   "metadata": {},
   "source": [
    "And for advanced cases, apply custom analysis to the RasterCollection"
   ]
  },
  {
   "cell_type": "code",
   "execution_count": null,
   "id": "ff10c287-d100-46ca-9af0-b0a737b5486c",
   "metadata": {},
   "outputs": [],
   "source": [
    "# Define function to remove cloud pixels based on QA band\n",
    "def remove_cloud(item):\n",
    "    raster = item['Raster']\n",
    "    qa_band = raster.getRasterBands(['QA'])\n",
    "    \n",
    "    cloud_mask = arcpy.ia.TransposeBits(qa_band, [0,1,2,3,4], [0,1,2,3,4], 0, None)\n",
    "    value_mask = ~cloud_mask\n",
    "    \n",
    "    cloud_free_raster = arcpy.ia.Clip(raster, aoi = value_mask)\n",
    "    \n",
    "    # Extract the RGB bands for True Color\n",
    "    cloud_free_raster_tc = arcpy.ia.ExtractBand(cloud_free_raster, [4, 3, 2])\n",
    "    \n",
    "    return {'raster': cloud_free_raster_tc, \"Name\": item[\"Name\"], \"AcquisitionDate\": item[\"StdTime\"]}"
   ]
  },
  {
   "cell_type": "code",
   "execution_count": null,
   "id": "b9d88423-deb1-466b-82d0-6f4fd2cf1166",
   "metadata": {},
   "outputs": [],
   "source": [
    "# Apply the above function to remove cloud pixels from each image in the RasterCollection\n",
    "rc_cloud_free = rc.map(remove_cloud)\n",
    "rc_cloud_free"
   ]
  },
  {
   "cell_type": "code",
   "execution_count": null,
   "id": "0912f388-cfbd-4148-a6fb-3c28e4ac7e12",
   "metadata": {},
   "outputs": [],
   "source": [
    "# Apply the Median function to find the most representative pixels value from overlapping images\n",
    "cloud_free_composite_median = rc_cloud_free.median(ignore_nodata = True, extent_type = 'UnionOf')\n",
    "\n",
    "# Display the cloud free image composite\n",
    "cloud_free_composite_median"
   ]
  },
  {
   "cell_type": "markdown",
   "id": "944abce4",
   "metadata": {},
   "source": [
    "## 8. Further Exploration, Discussion, and Challenge\n",
    "\n",
    "Hint: Use the really cool Notebook examples from Esri's ArcGIS for MPC GitHub repo [here](https://github.com/Esri/arcgis-for-mpc/tree/main/AMPC_Resources/Notebook_Examples)\n",
    "- **How else could you use this workflow?**\n",
    "    - Try a different collection (e.g., Sentinel-2, NAIP) or location\n",
    "    - Experiment with the datetime, query, and limit values in your STAC search\n",
    "- **What could you do with the RasterCollection objects?**\n",
    "    - Map display in ArcGIS Pro\n",
    "    - Raster analysis (NDVI, change over time)\n",
    "    - Tiled raster export\n",
    "\n",
    "### Challenge\n",
    "- Modify bbox to your area of interest\n",
    "- Retrieve imagery for several years and compare results\n",
    "- Use attribute_dict to retrieve additional metadata (e.g., sun angle, processing level)\n",
    "- Try with another collection ID (see: `stac_info['collections']`)"
   ]
  }
 ],
 "metadata": {
  "kernelspec": {
   "display_name": "ArcGISPro",
   "language": "python",
   "name": "python3"
  },
  "language_info": {
   "file_extension": ".py",
   "mimetype": "text/x-python",
   "name": "python",
   "version": "3.11.10"
  }
 },
 "nbformat": 4,
 "nbformat_minor": 5
}
