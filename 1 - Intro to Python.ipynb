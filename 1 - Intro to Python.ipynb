{
 "cells": [
  {
   "cell_type": "markdown",
   "metadata": {
    "jp-MarkdownHeadingCollapsed": true
   },
   "source": [
    "# <u>Python Introduction, Why Use It, and Python Basics</U>\n",
    "\n",
    "**Agenda:**\n",
    "- **Lesson 1: Overview of Python**\n",
    "    - What is Python\n",
    "    - How long does it take to learn Python\n",
    "    - Quick Python Snippet\n",
    "       \n",
    "- **Lesson 2: Why Python is Useful in ArcGIS**\n",
    "    - What can Python be used for in ArcGIS\n",
    "    - Where can Python be used with ArcGIS\n",
    "\n",
    "- **Lesson 3: Python Basics and Fundamentals**\n",
    "    - A Developer's First Step\n",
    "    - Defining Variables\n",
    "    - Combining Variables\n",
    "    - Iteration in Python\n",
    "    - Using Functions\n",
    "    - Using Methods\n",
    "    \n",
    "- **Lesson 4: Other Popular Programming Languages to Be Aware Of**\n",
    "    - Arcade\n",
    "    - C++ & C#\n",
    "    - JavaScript/Typescript\n",
    "    - Java\n",
    "\n",
    "- **Extra Work: Simple Python Challenges**\n",
    "    - Simple Python challenges to test your skills"
   ]
  },
  {
   "cell_type": "markdown",
   "metadata": {},
   "source": [
    "# <u>[Lesson 1] Overview of Python"
   ]
  },
  {
   "cell_type": "markdown",
   "metadata": {},
   "source": [
    "Python is a high-level, interpreted programming language known for its readability and versatility. It emphasizes code simplicity and ease of use, making it a popular choice for beginners and experienced developers alike. With extensive libraries and frameworks, Python is widely used in web development, data analysis, artificial intelligence, scientific computing, and automation.\n",
    "\n",
    "Overall, Python's balance between simplicity and power makes it one of the most widely used programming languages today. Learning Python can help you streamline and expedite workflows that would otherwise take hours."
   ]
  },
  {
   "cell_type": "markdown",
   "metadata": {},
   "source": [
    "<b>How long does it take to learn Python?</b>\n",
    "\n",
    "Learning Python varies considerably by person and depends on prior experience, training consistency, and much more.\n",
    "<br><br>\n",
    "That said, here is a very rough breakdown.\n",
    "- <b>Basic Python</b> (Syntax, Variables, Loops, Functions) → 30–50 hours\n",
    "- <b>Intermediate Python</b> (Object-Oriented Programming, Libraries like pandas, ArcPy) → 100–200 hours\n",
    "- <b>Advanced Python</b> (Building Applications, Performance Optimization, Geospatial Analysis) → 400+ hours\n",
    "<br><br>\n",
    "\n",
    "<b>Don't be intimidated though,</b> even basic Python skills can save hours in GIS workflows. Just focus on solving your problems with Python, and your skills will naturally develop. There are lots of online resources, and AI assistants can be great aids."
   ]
  },
  {
   "cell_type": "markdown",
   "metadata": {},
   "source": [
    "## <i>Lesson 1: Python Snippet"
   ]
  },
  {
   "cell_type": "markdown",
   "metadata": {},
   "source": [
    "Let's do a quick run of Python code. Try your best! We will explore the Python basics later.\n",
    "\n",
    "Run the code below, and answer the following questions.\n",
    "- <b><i>[Hint]</i></b> To run the code, either click the \">\" in the top bar or click <i>\"SHIFT\" + \"ENTER\"</i> on your keyboard."
   ]
  },
  {
   "cell_type": "code",
   "execution_count": null,
   "metadata": {},
   "outputs": [],
   "source": [
    "#Import the Python library math\n",
    "import statistics\n",
    "\n",
    "#A list containing numeric values\n",
    "number_list = [0, -2, 8, 9, 7, 7, 6, 7, 14]\n",
    "\n",
    "#Print the max value\n",
    "print(max(number_list))\n",
    "\n",
    "#Print the min value\n",
    "print(min(number_list))\n",
    "\n",
    "#Print the range value\n",
    "    #Note the use of \"str(...)\" in this code now\n",
    "print(\"Range: \" + str(max(number_list) - min(number_list)))\n",
    "\n",
    "#Print the mean value\n",
    "print(\"Mean: \" + str(sum(number_list) / len(number_list)))\n",
    "\n",
    "#Print the median value\n",
    "print(\"Median: \" + str(statistics.median(number_list)))"
   ]
  },
  {
   "cell_type": "markdown",
   "metadata": {},
   "source": [
    "<details>\n",
    "<summary><b>[Question 1]</b> What is the minimum value from the list?</summary>\n",
    "<br><b>[Answer]</b>\n",
    "-2\n",
    "</details>"
   ]
  },
  {
   "cell_type": "markdown",
   "metadata": {},
   "source": [
    "[Enter Your Answer]"
   ]
  },
  {
   "cell_type": "markdown",
   "metadata": {},
   "source": [
    "<details>\n",
    "<summary><b>[Question 2]</b> What is the mean (i.e., average) value from the list?</summary>\n",
    "<br><b>[Answer]</b>\n",
    "7\n",
    "</details>"
   ]
  },
  {
   "cell_type": "markdown",
   "metadata": {},
   "source": [
    "[Enter Your Answer]"
   ]
  },
  {
   "cell_type": "markdown",
   "metadata": {},
   "source": [
    "<details>\n",
    "<summary><b>[Question 3]</b> Why do you think it is good to use a Python script to calculate these statistics rather than manually calculating them (including if you were using Excel)?</summary>\n",
    "<br><b>[Answer]</b>\n",
    "There are many potential reasons. One good reason is that the Python script can be quickly re-run if the list of values changes, such as the number of values in the list. Reusability is a significant benefit of programming solutions.\n",
    "</details>"
   ]
  },
  {
   "cell_type": "markdown",
   "metadata": {},
   "source": [
    "[Enter Your Answer]"
   ]
  },
  {
   "cell_type": "markdown",
   "metadata": {},
   "source": [
    "<details>\n",
    "<summary><b>[Question 4]</b> Why is the max value the first value printed and the median value the very last value printed?</summary>\n",
    "<br><b>[Answer]</b>\n",
    "Because the order of the code reads from top to bottom. The max value was called to be printed first, and the median value was called to be printed last.<b> The order of code is a simple and fundamental concept always to remember.</b>\n",
    "</details>"
   ]
  },
  {
   "cell_type": "markdown",
   "metadata": {},
   "source": [
    "[Enter Your Answer]"
   ]
  },
  {
   "cell_type": "markdown",
   "metadata": {},
   "source": [
    "## <i> Lesson 1: Bonus Questions</i>\n",
    "\n",
    "Take a guess, Google it, or ask an AI assistant for these bonus questions."
   ]
  },
  {
   "cell_type": "markdown",
   "metadata": {},
   "source": [
    "<details>\n",
    "<summary><b>[Bonus Question 1]</b> What does the <b><i>str()</b></i> in the above code do</i>?</summary>\n",
    "<br><b>[Answer]</b>\n",
    "The <b><i>str()</b></i> is a function that converts the numeric value to a text value.\n",
    "</details>"
   ]
  },
  {
   "cell_type": "markdown",
   "metadata": {},
   "source": [
    "[Enter Your Answer]"
   ]
  },
  {
   "cell_type": "markdown",
   "metadata": {},
   "source": [
    "<details>\n",
    "<summary><b>[Bonus Question 2]</b> What is the <b><i>statistics</b></i> part of the code doing</i>?</summary>\n",
    "<br><b>[Answer]</b>\n",
    "The <b><i>statistics</b></i> is a reference to a Python module that contains functions like calculating median values for a list.\n",
    "</details>"
   ]
  },
  {
   "cell_type": "markdown",
   "metadata": {},
   "source": [
    "[Enter Your Answer]"
   ]
  },
  {
   "cell_type": "markdown",
   "metadata": {},
   "source": [
    "# <u>[Lesson 2] Why Python is Useful in ArcGIS"
   ]
  },
  {
   "cell_type": "markdown",
   "metadata": {},
   "source": [
    "Python is heavily integrated into ArcGIS Pro. Roughly 99% of the Geoprocessing Tools in ArcGIS Pro are written in Python. Let's examine the various ways Python can be used within ArcGIS Pro. Python enhances automation, data manipulation, and geospatial analysis."
   ]
  },
  {
   "cell_type": "markdown",
   "metadata": {},
   "source": [
    "Here are some <b>examples</b> of Python usage in ArcGIS\n",
    "- <b>Automating Geoprocessing Tasks</b> = ArcPy, Python can automate repetitive GIS tasks, such as batch processing shapefiles.\n",
    "- <b>Data Management</b> = Python allows users to easily extract, transform, quality-control, improve, and analyze.\n",
    "- <b>Manage ArcGIS Content in the Web-Browser</b> = Python enables users to update and manage their content in ArcGIS Online or ArcGIS Portal.\n",
    "- <b>Analytics</b> = Python is beneficial for developing simple to advanced analytical tools and workflows, from calculating basic statistics to robust data modeling."
   ]
  },
  {
   "cell_type": "markdown",
   "metadata": {},
   "source": [
    "Here are some <b>common places</b> where Python is accessible and used in ArcGIS:\n",
    "- <b>ArcGIS Pro Field Calculator</b> = Python is conveniently available in ArcGIS for calculating attribute fields for Feature Layers and Tables.\n",
    "- <b>ArcGIS Pro Labels</b> = Python can populate simple to advanced labels in ArcGIS Pro maps.\n",
    "- <b>ArcGIS Notebooks</b> = Python can be used in ArcGIS Notebooks - <b>e.g., you are currently using an ArcGIS Notebook </b>- that are great for running piecemeal scripts and providing robust documentation. ArcGIS Notebooks are available in ArcGIS Pro, ArcGIS Online, and ArcGIS Portal (if Notebook Server is available).\n",
    "- <b> ArcGIS Custom Geoprocessing and Web Tools </b> = ArcGIS users can build their own custom geoprocessing tools or web tools across ArcGIS Pro, ArcGIS Online, or ArcGIS Portal.\n",
    "- <b> Non-ArcGIS IDE Environments </b> = Users can access Python ArcGIS capabilities from their preferred non-ArcGIS IDE environment, such as Python IDLE, VS Microsoft, & Jupyter Notebooks."
   ]
  },
  {
   "cell_type": "markdown",
   "metadata": {},
   "source": [
    "## <i>Lesson 2: Questions"
   ]
  },
  {
   "cell_type": "markdown",
   "metadata": {},
   "source": [
    "<details>\n",
    "<summary><b>[Question 1]</b> You are currently using what ArcGIS Product to read this text in this entire Python workshop?</summary>\n",
    "<br><b>[Answer]</b>\n",
    "ArcGIS Notebooks within ArcGIS Pro\n",
    "</details>"
   ]
  },
  {
   "cell_type": "markdown",
   "metadata": {},
   "source": [
    "[Enter Your Answer]"
   ]
  },
  {
   "cell_type": "markdown",
   "metadata": {},
   "source": [
    "<details>\n",
    "<summary><b>[Question 2]</b> Where can you quickly calculate attribution fields (i.e., columns) in ArcGIS Pro with Python?</summary>\n",
    "<br><b>    [Answer]</b>\n",
    "ArcGIS Pro Field Calculator from a dataset's attribute table.\n",
    "</details>"
   ]
  },
  {
   "cell_type": "markdown",
   "metadata": {},
   "source": [
    "[Enter Your Answer]"
   ]
  },
  {
   "cell_type": "markdown",
   "metadata": {},
   "source": [
    "<details>\n",
    "<summary><b>[Question 3]</b> (True or False) To use Python with ArcGIS, you must be working within an ArcGIS environment (e..g., an ArcGIS Notebook)?</summary>\n",
    "<br><b>    [Answer]</b>\n",
    "False. You can easily use Python ArcGIS capabilities within non-ArcGIS environments like VS Microsoft.\n",
    "</details>"
   ]
  },
  {
   "cell_type": "markdown",
   "metadata": {},
   "source": [
    "[Enter Your Answer]"
   ]
  },
  {
   "cell_type": "markdown",
   "metadata": {},
   "source": [
    "# <u>[Lesson 3] Python Basics and Fundamentals"
   ]
  },
  {
   "cell_type": "markdown",
   "metadata": {},
   "source": [
    "<b> Complete all the following steps and answer the questions</b>. This section will not teach you all the fundamentals to Python, but will help get you started with some familiarity."
   ]
  },
  {
   "cell_type": "markdown",
   "metadata": {},
   "source": [
    "## <i>Part 1: A Developer's First Steps"
   ]
  },
  {
   "cell_type": "markdown",
   "metadata": {},
   "source": [
    "The first step to any programmer's journey is to print \"Hello World\".\n"
   ]
  },
  {
   "cell_type": "markdown",
   "metadata": {},
   "source": [
    "<b>[Step 1]</b> Type in <i>print(\"Hello World\")</i> in the code below and <b>run</b> the code.\n",
    "- <b><i>[Hint]</i></b> To run the code, either click the \">\" in the top bar or click <i>\"SHIFT\" + \"ENTER\"</i> on your keyboard."
   ]
  },
  {
   "cell_type": "code",
   "execution_count": null,
   "metadata": {},
   "outputs": [],
   "source": [
    "#<<< Enter your code >>>\n"
   ]
  },
  {
   "cell_type": "markdown",
   "metadata": {},
   "source": [
    "<details>\n",
    "<summary><b>[Question 1]</b> What happens if you type in <i>Hello World</i> without the quotation marks around it?</summary>\n",
    "<br><b>    [Answer]</b>\n",
    "The cell will error out and not work. That is because (1) you will get a syntax error and (2) Python will think you are referencing unknown variables called <i>Hello</i> and another variable called </i>World</i> that have not yet been defined.\n",
    "</details>"
   ]
  },
  {
   "cell_type": "markdown",
   "metadata": {},
   "source": [
    "[Enter Your Answer]"
   ]
  },
  {
   "cell_type": "markdown",
   "metadata": {},
   "source": [
    "## <i>Part 2: Defining Variables"
   ]
  },
  {
   "cell_type": "markdown",
   "metadata": {},
   "source": [
    "The basic building blocks of Python are variables. There are <b>multiple types of variables</b> in Python. Some often-used variable types include:\n",
    "- <b>Numeric types</b> like <i>floats</i> and <i>integers</i>\n",
    "- <b>Text types</b> like <i>strings</i> (think of letters, words, and sentences)\n",
    "- <b>Boolean types</b> like True or False\n",
    "- <b>Sequence types</b> like lists and tuples. Technically, strings are a sequence type too.\n",
    "- <b>Mapping types</b> like dictionaries (this is \"mapping\" not in the GIS sense)"
   ]
  },
  {
   "cell_type": "markdown",
   "metadata": {},
   "source": [
    "Below is an example of each type of variable listed above.\n",
    "- <b>Note</b> See how the <i>list_example</i> and <i>dictionary_example</i> includes examples of both text and numbers in them."
   ]
  },
  {
   "cell_type": "code",
   "execution_count": null,
   "metadata": {},
   "outputs": [],
   "source": [
    "#Numeric Types\n",
    "float_example = 5.2\n",
    "integer_example = 9\n",
    "\n",
    "#Text Type\n",
    "string_example = \"Hello World!\"\n",
    "\n",
    "#Boolean Type\n",
    "true_example = True\n",
    "false_example = False\n",
    "\n",
    "#Sequence Type\n",
    "    #Notice the commas (i.e, \",\") between the values in the list\n",
    "list_example = [\"Apples\", \"Bananas\", 5, 69]\n",
    "\n",
    "#Mapping type.\n",
    "    #Notice the use of colons (i.e., \":\") in the dictionary (e.g., \"Age\" : 23)\n",
    "    #The value before colon is called the key and the value after colon is called the item\n",
    "dictionary_example = {\"Name\" : \"John Smith\",\n",
    "                      \"Age\" : 23,\n",
    "                      \"Majors\" : [\"Geography\", \"Biology\"]}          "
   ]
  },
  {
   "cell_type": "markdown",
   "metadata": {},
   "source": [
    "<b>[Step 2]</b> Create your own dictionary example below."
   ]
  },
  {
   "cell_type": "code",
   "execution_count": null,
   "metadata": {},
   "outputs": [],
   "source": [
    "#<<< Enter your code >>>\n"
   ]
  },
  {
   "cell_type": "markdown",
   "metadata": {},
   "source": [
    "<details>\n",
    "<summary><b>[Question 2]</b> What do you think the \"=\" sign does in the code above?</summary>\n",
    "<br><b>    [Answer]</b>\n",
    "The \"=\" declares what the variable is equal to.\n",
    "</details>"
   ]
  },
  {
   "cell_type": "markdown",
   "metadata": {},
   "source": [
    "[Enter Your Answer]"
   ]
  },
  {
   "cell_type": "markdown",
   "metadata": {},
   "source": [
    "## <i>Part 3: Combining Variables"
   ]
  },
  {
   "cell_type": "markdown",
   "metadata": {},
   "source": [
    "Variables can be worked with and combined. Manipulating, adjusting, and combining variables is key to developing a Python script. Below are some examples of variables being combined."
   ]
  },
  {
   "cell_type": "markdown",
   "metadata": {},
   "source": [
    "###### Math Combination"
   ]
  },
  {
   "cell_type": "code",
   "execution_count": null,
   "metadata": {},
   "outputs": [],
   "source": [
    "number_x = 10\n",
    "number_y = 20 * number_x\n",
    "\n",
    "print(number_y)"
   ]
  },
  {
   "cell_type": "markdown",
   "metadata": {},
   "source": [
    "###### Text Combination"
   ]
  },
  {
   "cell_type": "code",
   "execution_count": null,
   "metadata": {},
   "outputs": [],
   "source": [
    "text_x = \"Red\"\n",
    "text_y = \"Shirt\"\n",
    "combined_text = text_x + \" \" + text_y\n",
    "\n",
    "print(combined_text)"
   ]
  },
  {
   "cell_type": "markdown",
   "metadata": {},
   "source": [
    "###### List Combination"
   ]
  },
  {
   "cell_type": "code",
   "execution_count": null,
   "metadata": {},
   "outputs": [],
   "source": [
    "list_x = [9, 2, 10]\n",
    "list_y = [\"Apples\", \"Bananas\"]\n",
    "\n",
    "combined_list = list_x + list_y + list_x\n",
    "print(combined_list)"
   ]
  },
  {
   "cell_type": "markdown",
   "metadata": {},
   "source": [
    "<b>[Step 3]</b> Create an example of (1) two numerical values being subtracted from one another and (2) an example of two lists being combined together."
   ]
  },
  {
   "cell_type": "code",
   "execution_count": null,
   "metadata": {},
   "outputs": [],
   "source": [
    "#<<< Enter your code and create an example of two numeric values being subtracted >>>\n"
   ]
  },
  {
   "cell_type": "code",
   "execution_count": null,
   "metadata": {},
   "outputs": [],
   "source": [
    "#<<< Enter your code and define two lists and combine them together >>>\n"
   ]
  },
  {
   "cell_type": "markdown",
   "metadata": {},
   "source": [
    "<details>\n",
    "<summary><b>[Question 3]</B> What happens if you try to add a text variable with a numeric value? What about if you tried to multiply?</summary>\n",
    "<br><b>    [Answer]</b>\n",
    "You will get an error when trying to add the two different types together. However, the multiplication will work and cause the text to repeat itself based on the numeric value.\n",
    "<br><br>\n",
    "There are specific ways value types can and cannot interact. Picking these will come naturally to you over time as you work with and explore Python (or take dedicated introduction to Python courses).\n",
    "</details>"
   ]
  },
  {
   "cell_type": "markdown",
   "metadata": {},
   "source": [
    "[Enter Your Answer]"
   ]
  },
  {
   "cell_type": "markdown",
   "metadata": {},
   "source": [
    "## <i>Part 4: Iteration in Python"
   ]
  },
  {
   "cell_type": "markdown",
   "metadata": {},
   "source": [
    "The <b>iteration</b> concept is fundamental to understanding programming and Python. This is <b>significant to saving time</b> with programming.\n",
    "\n",
    "<b>Iteration</b> in Python refers to repeatedly executing a code block. It's commonly used when working with loops or iterators to process elements in a sequence, such as lists and dictionaries\n",
    "\n",
    "<b>Iteration</b> is also commonly referred to as <b>looping</b>. Here is an example of an iterative <b><i>for</i></b> loop in action:"
   ]
  },
  {
   "cell_type": "code",
   "execution_count": null,
   "metadata": {},
   "outputs": [],
   "source": [
    "#Define a list variable\n",
    "list_example = [4, 50, \"GIS\"]\n",
    "\n",
    "#Iterate with a \"for\" loop to print each value in the list\n",
    "    #'item' will be redefined through each iteration of the loop\n",
    "for item in list_example:\n",
    "    print(item)"
   ]
  },
  {
   "cell_type": "markdown",
   "metadata": {},
   "source": [
    "<details>\n",
    "<summary><b>[Question 4]</B> What is the <i>'item'</i> being printed, and why is it changing each time it is being printed?</summary>\n",
    "<br><b>    [Answer]</b>\n",
    "The 'item' comes from the list variable as the code repeats itself in the loop. Each time the <b><i>for</i></b> starts, it moves to the next value in the list.\n",
    "</details>"
   ]
  },
  {
   "cell_type": "markdown",
   "metadata": {},
   "source": [
    "[Enter Your Answer]"
   ]
  },
  {
   "cell_type": "markdown",
   "metadata": {},
   "source": [
    "<b>[Step 4]</b> Create a <b>for</b> loop that iterates through a list of numbers and multiplies them by 4."
   ]
  },
  {
   "cell_type": "code",
   "execution_count": null,
   "metadata": {},
   "outputs": [],
   "source": [
    "#<<< Enter your code >>>\n"
   ]
  },
  {
   "cell_type": "markdown",
   "metadata": {},
   "source": [
    "## <i>Part 5: Using Functions"
   ]
  },
  {
   "cell_type": "markdown",
   "metadata": {},
   "source": [
    "Functions in Python are blocks of reusable code that perform a specific task. They help make your code more organized, efficient, and readable by allowing you to write logic once and use it multiple times.\n",
    "\n",
    "Let's test out a simple example."
   ]
  },
  {
   "cell_type": "code",
   "execution_count": null,
   "metadata": {},
   "outputs": [],
   "source": [
    "# Defining a function\n",
    "def add_numbers(a, b):\n",
    "    output = a + b\n",
    "    return output  # Returning the sum of 'a' and 'b' as 'output'"
   ]
  },
  {
   "cell_type": "code",
   "execution_count": null,
   "metadata": {},
   "outputs": [],
   "source": [
    "#Run the function muliple times\n",
    "example_output = add_numbers(a = 30, b = 20)\n",
    "print(example_output)"
   ]
  },
  {
   "cell_type": "markdown",
   "metadata": {},
   "source": [
    "<b>[Step 5]</b> Create an example of a function that adds three separate text variables together."
   ]
  },
  {
   "cell_type": "code",
   "execution_count": null,
   "metadata": {},
   "outputs": [],
   "source": [
    "#<<< Enter your code >>>\n"
   ]
  },
  {
   "cell_type": "markdown",
   "metadata": {},
   "source": [
    "<details>\n",
    "<summary><b>[Question 5]</B> What are some reasons it is useful to define a function rather rewrite the code over and over again?</summary>\n",
    "<br><b>    [Answer]</b>\n",
    "Any code that is repeating itself - especially long, lengthy sections of code - can be hard to change and update. A function can make your code (1) cleaner and more organized and (2) easier to update and change.\n",
    "</details>"
   ]
  },
  {
   "cell_type": "markdown",
   "metadata": {},
   "source": [
    "[Enter Your Answer]"
   ]
  },
  {
   "cell_type": "markdown",
   "metadata": {},
   "source": [
    "## <i>Part 6: Using Methods (pre-defined built-in functions)"
   ]
  },
  {
   "cell_type": "markdown",
   "metadata": {},
   "source": [
    "In Python, <b>methods are functions that are built into a variable</b>. They operate on the variable they belong to and can modify or interact with the variable's properties.\n",
    "\n",
    "<b>Key Differences Between Methods and Functions</b>\n",
    "- <b>Functions</b>: Standalone pieces of code that work independently (e.g., str(), len(), print()).\n",
    "- <b>Methods</b>: Defined within a class and act upon an instance of that class (e.g., .append() for lists, .upper() for strings)."
   ]
  },
  {
   "cell_type": "markdown",
   "metadata": {},
   "source": [
    "Here are examples of <b>String</b> methods (i.e., functions built into text variables)."
   ]
  },
  {
   "cell_type": "code",
   "execution_count": null,
   "metadata": {},
   "outputs": [],
   "source": [
    "# Uppercasing a string\n",
    "text = \"hello\"\n",
    "uppercase_text = text.upper()  # Using the method .upper()\n",
    "print(uppercase_text)  # Output: HELLO\n",
    "\n",
    "# Replacing characters\n",
    "new_text = text.replace(\"h\", \"H\")\n",
    "print(new_text)  # Output: Hello"
   ]
  },
  {
   "cell_type": "markdown",
   "metadata": {},
   "source": [
    "Here are examples of <b>list</b> methods."
   ]
  },
  {
   "cell_type": "code",
   "execution_count": null,
   "metadata": {},
   "outputs": [],
   "source": [
    "# List methods\n",
    "numbers = [1, 2, 3]\n",
    "numbers.append(4)  # Adds 4 to the list\n",
    "numbers.remove(2)  # Removes 2 from the list\n",
    "print(numbers)  # Output: [1, 3, 4]"
   ]
  },
  {
   "cell_type": "markdown",
   "metadata": {},
   "source": [
    "<b>[Step 6]</b> Complete the code snippet below so that it takes a list of lowercase strings and returns a new list containing the same strings converted to uppercase. Use a <b>for</b> loop to iterate through the original list and the <b>.append()</b> method to store the uppercased strings in the new list."
   ]
  },
  {
   "cell_type": "code",
   "execution_count": null,
   "metadata": {},
   "outputs": [],
   "source": [
    "#<<< Complete the code below >>>\n",
    "\n",
    "#Empty list to populate.\n",
    "    #Use .append() method to populate this list\n",
    "new_list = []\n",
    "\n",
    "#List with lowercase values\n",
    "current_list = [\"gis\", \"esri\", \"umd\"]\n",
    "\n",
    "#for loop for the current list\n",
    "for item in current_list:\n",
    "\n",
    "    #=====================================================================\n",
    "    #<<< Complete this section and populate the rest of the for loop >>>\n",
    "    item #Hint: In one line of code, use .upper() on the 'item' and '.append()' on the 'new_list'\n",
    "\n",
    "    #=====================================================================\n",
    "\n",
    "#Print the 'new_list' with uppercased values\n",
    "print(new_list)"
   ]
  },
  {
   "cell_type": "markdown",
   "metadata": {},
   "source": [
    "<details>\n",
    "<summary><b>[Question 6]</B> Desribe how the <b>for</b> loop is working with the <b>.append()</b> method to populate the <i>'new_list'</i> variable?</summary>\n",
    "<br><b>    [Answer]</b>\n",
    "The <b>for</b> loop iterates through each item in the original list, converts it to uppercase, and uses <b>.append()</b> to add the transformed item to the empty <i>'new_list'</i>.\n",
    "</details>"
   ]
  },
  {
   "cell_type": "markdown",
   "metadata": {},
   "source": [
    "[Enter Your Answer]"
   ]
  },
  {
   "cell_type": "markdown",
   "metadata": {},
   "source": [
    "## <i>Lesson 7</i> Common Syntax Errors in Pythons"
   ]
  },
  {
   "cell_type": "markdown",
   "metadata": {},
   "source": [
    "Python has grammar just like any other language. In programming, we call it 'Syntax'.\n",
    "\n",
    "These rules <b><u>must</b></u> be followed when writing code, or else your code will fail. Below is a common list of Syntax errors:\n",
    "\n",
    "- <b>Indentation Errors</b> – Forgetting to properly indent blocks of code within loops, functions, or conditionals.\n",
    "- <b>Mismatched Parentheses/Brackets</b> – Leaving an unclosed (, {, or [ somewhere in the code.\n",
    "- <b>Incorrect Use of Colons (:)</b> – Missing colons after if, for, while, and function definitions.\n",
    "- <b>Variable Name Errors</b> – Using an undefined variable or forgetting to assign a value before use.\n",
    "- <b>Incorrect String Quotation Marks</b> – Mixing single (') and double (\") quotes inconsistently or forgetting to close them.\n",
    "- <b>Using = Instead of ==</b> – Assigning a value (=) instead of checking equality (==).\n",
    "- <b>Improper Use of return in Functions</b> – Using return outside a function or forgetting to return a value.\n",
    "- <b>Type Errors with Operators</b> – Trying to add incompatible types (e.g., \"10\" + 5 instead of \"10\" + str(5))."
   ]
  },
  {
   "cell_type": "markdown",
   "metadata": {},
   "source": [
    "<b>[Step 7]</b> Make the below scripts work by fixing all the syntax errors.\n",
    "- <b>Hint:</b> Use an AI assistant to help you if needed"
   ]
  },
  {
   "cell_type": "code",
   "execution_count": null,
   "metadata": {},
   "outputs": [],
   "source": [
    "# <<< Fix Code Example 1 >>>\n",
    "\n",
    "#Define a function\n",
    "def combine_text_and_number(text, number)\n",
    "    output_text = text + number\n",
    "    print(output_text)\n",
    "\n",
    "#Run the function\n",
    "combine_text_and_number(text = \"Apples \",\n",
    "                        number = 5)"
   ]
  },
  {
   "cell_type": "code",
   "execution_count": null,
   "metadata": {},
   "outputs": [],
   "source": [
    "# <<< Fix Code Example 2 >>>\n",
    "\n",
    "#Run an if statement\n",
    "if 5 = 5:\n",
    "  print(True)"
   ]
  },
  {
   "cell_type": "markdown",
   "metadata": {},
   "source": [
    "# <u>[Lesson 4] Other Popular Programming Languages to Be Aware Of"
   ]
  },
  {
   "cell_type": "markdown",
   "metadata": {},
   "source": [
    "Python is one of the most popular languages and is used widely across the ArcGIS system (likely the most popular in GIS). \n",
    "\n",
    "That said, other programming languages can be valuable for GIS professionals, and they offer their own unique values and specialties as they relate to the ArcGIS system. <b>Understanding which language to use is important for a GIS Developer to know.</b>"
   ]
  },
  {
   "cell_type": "markdown",
   "metadata": {},
   "source": [
    "- <b>Arcade</b> is a lightweight, flexible expression language designed specifically for ArcGIS.\n",
    "    - It allows users to perform calculations, manipulate map data, and customize visualizations dynamically—without needing full-fledged programming skills.\n",
    "    - It is most similiar to <b>JavaScript</b>."
   ]
  },
  {
   "cell_type": "markdown",
   "metadata": {},
   "source": [
    "- <b>C++ & C</b># – Both languages are used in performance-critical applications like game development and system programming.\n",
    "    - <b>C#</b> might be the better fit if you’re interested in customizing ArcGIS Pro or creating enterprise integrations. <b>C#</b> tends to be easier to use than C++.\n",
    "    - However, <b>C++</b> is essential for performance-heavy geospatial processing, especially if you're dealing with deep learning or big data in GIS. <b>C++</b> tends to be more challenging to use than C#."
   ]
  },
  {
   "cell_type": "markdown",
   "metadata": {},
   "source": [
    "- <b>JavaScript & TypeScript</b> – Essential for web development, with TypeScript growing in popularity for large-scale applications.\n",
    "    - <b>JavaScript & TypeScript</b> are probably most useful in GIS for building interactive GIS applications.\n",
    "    - <b>TypeScript</b> is a superset of <b>JavaScript</b>, meaning it builds on JavaScript by adding features while remaining fully compatible with it. Many developers liken <b>TypeScript</b> as a stricter version of <b>JavaScript</b>, which improves the application's resiliency to updates (e.g., different web-browsers using different versions of JavaScript)"
   ]
  },
  {
   "cell_type": "markdown",
   "metadata": {},
   "source": [
    "- <b>Java</b> – Holding strong in enterprise software, Android development, and backend systems.\n",
    "    - If you're working on ArcGIS Server development, enterprise GIS, or big data geospatial processing, Java could be a solid choice."
   ]
  },
  {
   "cell_type": "markdown",
   "metadata": {},
   "source": [
    "## <i>Lesson 4: Questions"
   ]
  },
  {
   "cell_type": "markdown",
   "metadata": {},
   "source": [
    "<details>\n",
    "<summary><b>[Question 1]</b> Which programming language is ideal for developing web-based applications?</summary>\n",
    "<br><b>    [Answer]</b>\n",
    "JavaScript & TypeScript\n",
    "</details>"
   ]
  },
  {
   "cell_type": "markdown",
   "metadata": {},
   "source": [
    "[Enter Your Answer]"
   ]
  },
  {
   "cell_type": "markdown",
   "metadata": {},
   "source": [
    "<details>\n",
    "<summary><b>[Question 2]</b> Which programming language is ideal for working with backend ArcGIS Server development?</summary>\n",
    "<br><b>    [Answer]</b>\n",
    "Java\n",
    "</details>"
   ]
  },
  {
   "cell_type": "markdown",
   "metadata": {},
   "source": [
    "[Enter Your Answer]"
   ]
  },
  {
   "cell_type": "markdown",
   "metadata": {},
   "source": [
    "<details>\n",
    "<summary><b>[Question 3]</b> Which programming language is ideal for working with workflows like automation and analysis?</summary>\n",
    "<br><b>    [Answer]</b>\n",
    "Python\n",
    "</details>"
   ]
  },
  {
   "cell_type": "markdown",
   "metadata": {},
   "source": [
    "[Enter Your Answer]"
   ]
  },
  {
   "cell_type": "markdown",
   "metadata": {},
   "source": [
    "<details>\n",
    "<summary><b>[Question 4]</b> Which programming language is designed specifically for ArcGIS as a light-weight language?</summary>\n",
    "<br><b>    [Answer]</b>\n",
    "Arcade\n",
    "</details>"
   ]
  },
  {
   "cell_type": "markdown",
   "metadata": {},
   "source": [
    "[Enter Your Answer]"
   ]
  },
  {
   "cell_type": "markdown",
   "metadata": {},
   "source": [
    "<details>\n",
    "<summary><b>[Question 5]</b> Which programming language is great for customizing ArcGIS Pro (like creating new add-ins)?</summary>\n",
    "<br><b>    [Answer]</b>\n",
    "C#\n",
    "</details>"
   ]
  },
  {
   "cell_type": "markdown",
   "metadata": {},
   "source": [
    "[Enter Your Answer]"
   ]
  },
  {
   "cell_type": "markdown",
   "metadata": {},
   "source": [
    "<details>\n",
    "<summary><b>[Question 6]</b> Why do you think it is important to have an understanding of what each programming language does or specializes in?</summary>\n",
    "<br><b>    [Answer]</b>\n",
    "Lots of potential answers here. One strong reason is understanding which programming language you should know to solve a particular problem. If you don't know it, finding someone who does can be essential to building a team to tackle a problem. \n",
    "</details>"
   ]
  },
  {
   "cell_type": "markdown",
   "metadata": {},
   "source": [
    "[Enter Your Answer]"
   ]
  },
  {
   "cell_type": "markdown",
   "metadata": {},
   "source": [
    "# <i>Extra Work: Simple Python Challenges"
   ]
  },
  {
   "cell_type": "markdown",
   "metadata": {},
   "source": [
    "If you have the time, try completing these three Python challenges. We have not covered all the basics to complete this code, but try your best.\n",
    "- <b>Hint</b> Use AI assistants for this if needed. They are good for getting you started."
   ]
  },
  {
   "cell_type": "markdown",
   "metadata": {},
   "source": [
    "<b>[Challenge 1]</b> Write a Python function that calculates the area of a rectangle given its width and height."
   ]
  },
  {
   "cell_type": "code",
   "execution_count": null,
   "metadata": {},
   "outputs": [],
   "source": [
    "#<<< Write the Code for Challenge 1 >>>\n"
   ]
  },
  {
   "cell_type": "markdown",
   "metadata": {},
   "source": [
    "<b>[Challenge 2]</b> Implement a loop that prints the numbers from 1 to 20, replacing multiples of 3 with \"Fizz\" and multiples of 5 with \"Buzz\"."
   ]
  },
  {
   "cell_type": "code",
   "execution_count": null,
   "metadata": {},
   "outputs": [],
   "source": [
    "#<<< Write the Code for Challenge 2 >>>\n"
   ]
  },
  {
   "cell_type": "markdown",
   "metadata": {},
   "source": [
    "<b>[Challenge 3]</b> Create a Python dictionary that stores the names and ages of three people, then print the name of the oldest person."
   ]
  },
  {
   "cell_type": "code",
   "execution_count": null,
   "metadata": {},
   "outputs": [],
   "source": [
    "#<<< Write the Code for Challenge 3 >>>\n"
   ]
  }
 ],
 "metadata": {
  "kernelspec": {
   "display_name": "ArcGISPro",
   "language": "python",
   "name": "python3"
  },
  "language_info": {
   "file_extension": ".py",
   "mimetype": "text/x-python",
   "name": "python",
   "version": "3.11.10"
  }
 },
 "nbformat": 4,
 "nbformat_minor": 4
}
